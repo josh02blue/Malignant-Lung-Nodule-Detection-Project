{
  "nbformat": 4,
  "nbformat_minor": 0,
  "metadata": {
    "colab": {
      "provenance": [],
      "gpuType": "T4"
    },
    "kernelspec": {
      "name": "python3",
      "display_name": "Python 3"
    },
    "language_info": {
      "name": "python"
    },
    "accelerator": "GPU"
  },
  "cells": [
    {
      "cell_type": "markdown",
      "source": [
        "# Project 1\n",
        "# Malignant Lung Nodule Detection\n",
        "\n",
        "In this project, you will develop a deep learning model to classify lung nodules as benign or malignant from 3D CT scans, utilizing the LUNA16 dataset. This task involves data preprocessing, model design, training, and evaluation, offering hands-on experience with medical image analysis and deep learning in PyTorch."
      ],
      "metadata": {
        "id": "zMsKSGzE-xrU"
      }
    },
    {
      "cell_type": "markdown",
      "source": [
        "## 1. Create Annotation Data\n",
        "As the first step, we will need to load the annotation data from Kaggle's data page: [Luna 16 Lung Cancer Dataset on Kaggle](https://www.kaggle.com/datasets/fanbyprinciple/luna-lung-cancer-dataset)"
      ],
      "metadata": {
        "id": "8AH64fuG-5UD"
      }
    },
    {
      "cell_type": "markdown",
      "source": [
        "1.1 Download the annotation dataset from Kaggle."
      ],
      "metadata": {
        "id": "Y8vGiTr1--0k"
      }
    },
    {
      "cell_type": "code",
      "source": [
        "# Install Kaggle API\n",
        "# ! allows us to use console commands here.\n",
        "! pip install -q kaggle\n",
        "\n",
        "from google.colab import files\n",
        "files.upload()"
      ],
      "metadata": {
        "id": "0LKF_pUN_Ns6"
      },
      "execution_count": null,
      "outputs": []
    },
    {
      "cell_type": "code",
      "source": [
        "# Make a directory named kaggle and copy kaggle.json file there.\n",
        "! mkdir ~/.kaggle\n",
        "! cp kaggle.json ~/.kaggle/"
      ],
      "metadata": {
        "id": "odgFWkPA2Cb2"
      },
      "execution_count": null,
      "outputs": []
    },
    {
      "cell_type": "code",
      "source": [
        "# Display the content of this folder\n",
        "! ls ~/.kaggle"
      ],
      "metadata": {
        "colab": {
          "base_uri": "https://localhost:8080/"
        },
        "id": "7dsKz7tc2Eoh",
        "outputId": "a6061057-c6cb-4e54-c13b-787cd1ab259f"
      },
      "execution_count": null,
      "outputs": [
        {
          "output_type": "stream",
          "name": "stdout",
          "text": [
            "kaggle.json\n"
          ]
        }
      ]
    },
    {
      "cell_type": "code",
      "source": [
        "# Change the permissions of the file.\n",
        "! chmod 600 ~/.kaggle/kaggle.json"
      ],
      "metadata": {
        "id": "yf835nKt2Hjc"
      },
      "execution_count": null,
      "outputs": []
    },
    {
      "cell_type": "code",
      "source": [
        "# Download the data\n",
        "! kaggle datasets download -d 'fanbyprinciple/luna-lung-cancer-dataset'"
      ],
      "metadata": {
        "colab": {
          "base_uri": "https://localhost:8080/"
        },
        "id": "igVf0klx4Hop",
        "outputId": "1ae01199-66da-4b4a-989b-097d1eb766a8"
      },
      "execution_count": null,
      "outputs": [
        {
          "output_type": "stream",
          "name": "stdout",
          "text": [
            "Dataset URL: https://www.kaggle.com/datasets/fanbyprinciple/luna-lung-cancer-dataset\n",
            "License(s): CC-BY-SA-3.0\n"
          ]
        }
      ]
    },
    {
      "cell_type": "code",
      "source": [
        "# Use unzip command to unzip the data\n",
        "! unzip luna-lung-cancer-dataset.zip -d luna16"
      ],
      "metadata": {
        "id": "ufI58OhO6GUo"
      },
      "execution_count": null,
      "outputs": []
    },
    {
      "cell_type": "markdown",
      "source": [
        "1.2 Load the `candidates_V2.csv` file as a data frame. Display the first 5 rows."
      ],
      "metadata": {
        "id": "C1oLG8_j_OS6"
      }
    },
    {
      "cell_type": "code",
      "source": [
        "import pandas as pd\n",
        "candidates = pd.read_csv('luna16/candidates_V2/candidates_V2.csv')\n",
        "candidates.head()"
      ],
      "metadata": {
        "id": "T8AirC6B_U7_",
        "colab": {
          "base_uri": "https://localhost:8080/",
          "height": 206
        },
        "outputId": "95e86f54-17ed-469b-c5fc-1e8a25a8d3cc"
      },
      "execution_count": null,
      "outputs": [
        {
          "output_type": "execute_result",
          "data": {
            "text/plain": [
              "                                           seriesuid     coordX      coordY  \\\n",
              "0  1.3.6.1.4.1.14519.5.2.1.6279.6001.100225287222...  68.420000  -74.480000   \n",
              "1  1.3.6.1.4.1.14519.5.2.1.6279.6001.100225287222... -95.209361  -91.809406   \n",
              "2  1.3.6.1.4.1.14519.5.2.1.6279.6001.100225287222... -24.766755 -120.379294   \n",
              "3  1.3.6.1.4.1.14519.5.2.1.6279.6001.100225287222... -63.080000  -65.740000   \n",
              "4  1.3.6.1.4.1.14519.5.2.1.6279.6001.100225287222...  52.946688  -92.688873   \n",
              "\n",
              "       coordZ  class  \n",
              "0 -288.700000      0  \n",
              "1 -377.426350      0  \n",
              "2 -273.361539      0  \n",
              "3 -344.240000      0  \n",
              "4 -241.067872      0  "
            ],
            "text/html": [
              "\n",
              "  <div id=\"df-dd0fe3ed-a75b-4a14-b40e-2f72a9a86391\" class=\"colab-df-container\">\n",
              "    <div>\n",
              "<style scoped>\n",
              "    .dataframe tbody tr th:only-of-type {\n",
              "        vertical-align: middle;\n",
              "    }\n",
              "\n",
              "    .dataframe tbody tr th {\n",
              "        vertical-align: top;\n",
              "    }\n",
              "\n",
              "    .dataframe thead th {\n",
              "        text-align: right;\n",
              "    }\n",
              "</style>\n",
              "<table border=\"1\" class=\"dataframe\">\n",
              "  <thead>\n",
              "    <tr style=\"text-align: right;\">\n",
              "      <th></th>\n",
              "      <th>seriesuid</th>\n",
              "      <th>coordX</th>\n",
              "      <th>coordY</th>\n",
              "      <th>coordZ</th>\n",
              "      <th>class</th>\n",
              "    </tr>\n",
              "  </thead>\n",
              "  <tbody>\n",
              "    <tr>\n",
              "      <th>0</th>\n",
              "      <td>1.3.6.1.4.1.14519.5.2.1.6279.6001.100225287222...</td>\n",
              "      <td>68.420000</td>\n",
              "      <td>-74.480000</td>\n",
              "      <td>-288.700000</td>\n",
              "      <td>0</td>\n",
              "    </tr>\n",
              "    <tr>\n",
              "      <th>1</th>\n",
              "      <td>1.3.6.1.4.1.14519.5.2.1.6279.6001.100225287222...</td>\n",
              "      <td>-95.209361</td>\n",
              "      <td>-91.809406</td>\n",
              "      <td>-377.426350</td>\n",
              "      <td>0</td>\n",
              "    </tr>\n",
              "    <tr>\n",
              "      <th>2</th>\n",
              "      <td>1.3.6.1.4.1.14519.5.2.1.6279.6001.100225287222...</td>\n",
              "      <td>-24.766755</td>\n",
              "      <td>-120.379294</td>\n",
              "      <td>-273.361539</td>\n",
              "      <td>0</td>\n",
              "    </tr>\n",
              "    <tr>\n",
              "      <th>3</th>\n",
              "      <td>1.3.6.1.4.1.14519.5.2.1.6279.6001.100225287222...</td>\n",
              "      <td>-63.080000</td>\n",
              "      <td>-65.740000</td>\n",
              "      <td>-344.240000</td>\n",
              "      <td>0</td>\n",
              "    </tr>\n",
              "    <tr>\n",
              "      <th>4</th>\n",
              "      <td>1.3.6.1.4.1.14519.5.2.1.6279.6001.100225287222...</td>\n",
              "      <td>52.946688</td>\n",
              "      <td>-92.688873</td>\n",
              "      <td>-241.067872</td>\n",
              "      <td>0</td>\n",
              "    </tr>\n",
              "  </tbody>\n",
              "</table>\n",
              "</div>\n",
              "    <div class=\"colab-df-buttons\">\n",
              "\n",
              "  <div class=\"colab-df-container\">\n",
              "    <button class=\"colab-df-convert\" onclick=\"convertToInteractive('df-dd0fe3ed-a75b-4a14-b40e-2f72a9a86391')\"\n",
              "            title=\"Convert this dataframe to an interactive table.\"\n",
              "            style=\"display:none;\">\n",
              "\n",
              "  <svg xmlns=\"http://www.w3.org/2000/svg\" height=\"24px\" viewBox=\"0 -960 960 960\">\n",
              "    <path d=\"M120-120v-720h720v720H120Zm60-500h600v-160H180v160Zm220 220h160v-160H400v160Zm0 220h160v-160H400v160ZM180-400h160v-160H180v160Zm440 0h160v-160H620v160ZM180-180h160v-160H180v160Zm440 0h160v-160H620v160Z\"/>\n",
              "  </svg>\n",
              "    </button>\n",
              "\n",
              "  <style>\n",
              "    .colab-df-container {\n",
              "      display:flex;\n",
              "      gap: 12px;\n",
              "    }\n",
              "\n",
              "    .colab-df-convert {\n",
              "      background-color: #E8F0FE;\n",
              "      border: none;\n",
              "      border-radius: 50%;\n",
              "      cursor: pointer;\n",
              "      display: none;\n",
              "      fill: #1967D2;\n",
              "      height: 32px;\n",
              "      padding: 0 0 0 0;\n",
              "      width: 32px;\n",
              "    }\n",
              "\n",
              "    .colab-df-convert:hover {\n",
              "      background-color: #E2EBFA;\n",
              "      box-shadow: 0px 1px 2px rgba(60, 64, 67, 0.3), 0px 1px 3px 1px rgba(60, 64, 67, 0.15);\n",
              "      fill: #174EA6;\n",
              "    }\n",
              "\n",
              "    .colab-df-buttons div {\n",
              "      margin-bottom: 4px;\n",
              "    }\n",
              "\n",
              "    [theme=dark] .colab-df-convert {\n",
              "      background-color: #3B4455;\n",
              "      fill: #D2E3FC;\n",
              "    }\n",
              "\n",
              "    [theme=dark] .colab-df-convert:hover {\n",
              "      background-color: #434B5C;\n",
              "      box-shadow: 0px 1px 3px 1px rgba(0, 0, 0, 0.15);\n",
              "      filter: drop-shadow(0px 1px 2px rgba(0, 0, 0, 0.3));\n",
              "      fill: #FFFFFF;\n",
              "    }\n",
              "  </style>\n",
              "\n",
              "    <script>\n",
              "      const buttonEl =\n",
              "        document.querySelector('#df-dd0fe3ed-a75b-4a14-b40e-2f72a9a86391 button.colab-df-convert');\n",
              "      buttonEl.style.display =\n",
              "        google.colab.kernel.accessAllowed ? 'block' : 'none';\n",
              "\n",
              "      async function convertToInteractive(key) {\n",
              "        const element = document.querySelector('#df-dd0fe3ed-a75b-4a14-b40e-2f72a9a86391');\n",
              "        const dataTable =\n",
              "          await google.colab.kernel.invokeFunction('convertToInteractive',\n",
              "                                                    [key], {});\n",
              "        if (!dataTable) return;\n",
              "\n",
              "        const docLinkHtml = 'Like what you see? Visit the ' +\n",
              "          '<a target=\"_blank\" href=https://colab.research.google.com/notebooks/data_table.ipynb>data table notebook</a>'\n",
              "          + ' to learn more about interactive tables.';\n",
              "        element.innerHTML = '';\n",
              "        dataTable['output_type'] = 'display_data';\n",
              "        await google.colab.output.renderOutput(dataTable, element);\n",
              "        const docLink = document.createElement('div');\n",
              "        docLink.innerHTML = docLinkHtml;\n",
              "        element.appendChild(docLink);\n",
              "      }\n",
              "    </script>\n",
              "  </div>\n",
              "\n",
              "\n",
              "<div id=\"df-5c7a6d43-1f6b-49cb-a5d0-6bdd885992a2\">\n",
              "  <button class=\"colab-df-quickchart\" onclick=\"quickchart('df-5c7a6d43-1f6b-49cb-a5d0-6bdd885992a2')\"\n",
              "            title=\"Suggest charts\"\n",
              "            style=\"display:none;\">\n",
              "\n",
              "<svg xmlns=\"http://www.w3.org/2000/svg\" height=\"24px\"viewBox=\"0 0 24 24\"\n",
              "     width=\"24px\">\n",
              "    <g>\n",
              "        <path d=\"M19 3H5c-1.1 0-2 .9-2 2v14c0 1.1.9 2 2 2h14c1.1 0 2-.9 2-2V5c0-1.1-.9-2-2-2zM9 17H7v-7h2v7zm4 0h-2V7h2v10zm4 0h-2v-4h2v4z\"/>\n",
              "    </g>\n",
              "</svg>\n",
              "  </button>\n",
              "\n",
              "<style>\n",
              "  .colab-df-quickchart {\n",
              "      --bg-color: #E8F0FE;\n",
              "      --fill-color: #1967D2;\n",
              "      --hover-bg-color: #E2EBFA;\n",
              "      --hover-fill-color: #174EA6;\n",
              "      --disabled-fill-color: #AAA;\n",
              "      --disabled-bg-color: #DDD;\n",
              "  }\n",
              "\n",
              "  [theme=dark] .colab-df-quickchart {\n",
              "      --bg-color: #3B4455;\n",
              "      --fill-color: #D2E3FC;\n",
              "      --hover-bg-color: #434B5C;\n",
              "      --hover-fill-color: #FFFFFF;\n",
              "      --disabled-bg-color: #3B4455;\n",
              "      --disabled-fill-color: #666;\n",
              "  }\n",
              "\n",
              "  .colab-df-quickchart {\n",
              "    background-color: var(--bg-color);\n",
              "    border: none;\n",
              "    border-radius: 50%;\n",
              "    cursor: pointer;\n",
              "    display: none;\n",
              "    fill: var(--fill-color);\n",
              "    height: 32px;\n",
              "    padding: 0;\n",
              "    width: 32px;\n",
              "  }\n",
              "\n",
              "  .colab-df-quickchart:hover {\n",
              "    background-color: var(--hover-bg-color);\n",
              "    box-shadow: 0 1px 2px rgba(60, 64, 67, 0.3), 0 1px 3px 1px rgba(60, 64, 67, 0.15);\n",
              "    fill: var(--button-hover-fill-color);\n",
              "  }\n",
              "\n",
              "  .colab-df-quickchart-complete:disabled,\n",
              "  .colab-df-quickchart-complete:disabled:hover {\n",
              "    background-color: var(--disabled-bg-color);\n",
              "    fill: var(--disabled-fill-color);\n",
              "    box-shadow: none;\n",
              "  }\n",
              "\n",
              "  .colab-df-spinner {\n",
              "    border: 2px solid var(--fill-color);\n",
              "    border-color: transparent;\n",
              "    border-bottom-color: var(--fill-color);\n",
              "    animation:\n",
              "      spin 1s steps(1) infinite;\n",
              "  }\n",
              "\n",
              "  @keyframes spin {\n",
              "    0% {\n",
              "      border-color: transparent;\n",
              "      border-bottom-color: var(--fill-color);\n",
              "      border-left-color: var(--fill-color);\n",
              "    }\n",
              "    20% {\n",
              "      border-color: transparent;\n",
              "      border-left-color: var(--fill-color);\n",
              "      border-top-color: var(--fill-color);\n",
              "    }\n",
              "    30% {\n",
              "      border-color: transparent;\n",
              "      border-left-color: var(--fill-color);\n",
              "      border-top-color: var(--fill-color);\n",
              "      border-right-color: var(--fill-color);\n",
              "    }\n",
              "    40% {\n",
              "      border-color: transparent;\n",
              "      border-right-color: var(--fill-color);\n",
              "      border-top-color: var(--fill-color);\n",
              "    }\n",
              "    60% {\n",
              "      border-color: transparent;\n",
              "      border-right-color: var(--fill-color);\n",
              "    }\n",
              "    80% {\n",
              "      border-color: transparent;\n",
              "      border-right-color: var(--fill-color);\n",
              "      border-bottom-color: var(--fill-color);\n",
              "    }\n",
              "    90% {\n",
              "      border-color: transparent;\n",
              "      border-bottom-color: var(--fill-color);\n",
              "    }\n",
              "  }\n",
              "</style>\n",
              "\n",
              "  <script>\n",
              "    async function quickchart(key) {\n",
              "      const quickchartButtonEl =\n",
              "        document.querySelector('#' + key + ' button');\n",
              "      quickchartButtonEl.disabled = true;  // To prevent multiple clicks.\n",
              "      quickchartButtonEl.classList.add('colab-df-spinner');\n",
              "      try {\n",
              "        const charts = await google.colab.kernel.invokeFunction(\n",
              "            'suggestCharts', [key], {});\n",
              "      } catch (error) {\n",
              "        console.error('Error during call to suggestCharts:', error);\n",
              "      }\n",
              "      quickchartButtonEl.classList.remove('colab-df-spinner');\n",
              "      quickchartButtonEl.classList.add('colab-df-quickchart-complete');\n",
              "    }\n",
              "    (() => {\n",
              "      let quickchartButtonEl =\n",
              "        document.querySelector('#df-5c7a6d43-1f6b-49cb-a5d0-6bdd885992a2 button');\n",
              "      quickchartButtonEl.style.display =\n",
              "        google.colab.kernel.accessAllowed ? 'block' : 'none';\n",
              "    })();\n",
              "  </script>\n",
              "</div>\n",
              "\n",
              "    </div>\n",
              "  </div>\n"
            ],
            "application/vnd.google.colaboratory.intrinsic+json": {
              "type": "dataframe",
              "variable_name": "candidates"
            }
          },
          "metadata": {},
          "execution_count": 7
        }
      ]
    },
    {
      "cell_type": "markdown",
      "source": [
        "1.3 Display the number of class 0 (benign) records and the number of class 1 (malignant) records. Your results should indicate that the two classes are highly imbalanced."
      ],
      "metadata": {
        "id": "YLaFfZiE_VLa"
      }
    },
    {
      "cell_type": "code",
      "source": [
        "candidates[\"class\"].value_counts()"
      ],
      "metadata": {
        "id": "iwNl0uwq_pFI",
        "colab": {
          "base_uri": "https://localhost:8080/",
          "height": 178
        },
        "outputId": "d760f3ca-933d-4501-c9d0-56b7b005b78d"
      },
      "execution_count": null,
      "outputs": [
        {
          "output_type": "execute_result",
          "data": {
            "text/plain": [
              "class\n",
              "0    753418\n",
              "1      1557\n",
              "Name: count, dtype: int64"
            ],
            "text/html": [
              "<div>\n",
              "<style scoped>\n",
              "    .dataframe tbody tr th:only-of-type {\n",
              "        vertical-align: middle;\n",
              "    }\n",
              "\n",
              "    .dataframe tbody tr th {\n",
              "        vertical-align: top;\n",
              "    }\n",
              "\n",
              "    .dataframe thead th {\n",
              "        text-align: right;\n",
              "    }\n",
              "</style>\n",
              "<table border=\"1\" class=\"dataframe\">\n",
              "  <thead>\n",
              "    <tr style=\"text-align: right;\">\n",
              "      <th></th>\n",
              "      <th>count</th>\n",
              "    </tr>\n",
              "    <tr>\n",
              "      <th>class</th>\n",
              "      <th></th>\n",
              "    </tr>\n",
              "  </thead>\n",
              "  <tbody>\n",
              "    <tr>\n",
              "      <th>0</th>\n",
              "      <td>753418</td>\n",
              "    </tr>\n",
              "    <tr>\n",
              "      <th>1</th>\n",
              "      <td>1557</td>\n",
              "    </tr>\n",
              "  </tbody>\n",
              "</table>\n",
              "</div><br><label><b>dtype:</b> int64</label>"
            ]
          },
          "metadata": {},
          "execution_count": 8
        }
      ]
    },
    {
      "cell_type": "markdown",
      "source": [
        "## 2. Find Nodule Locations\n",
        "In the annotation dataset, the center of each identified lung nodule is marked with its 3D coordinates. We need to convert these coordinates into three indices to identify the specific subarray in each CT scan tensor that corresponds to the nodule.\n",
        "\n",
        "Please follow the steps outlined in the LUNA16DataPreparation notebook to generate a CSV file named `candidates_processed.csv`, which will store the indices for the center of each lung nodule."
      ],
      "metadata": {
        "id": "9YVauM4MA3-i"
      }
    },
    {
      "cell_type": "markdown",
      "source": [
        "2.1 Load the `subset0.zip` from Google Drive using the file ID '1OFa8UhDvCrcTj1VkFLa7RjifEqMD4TAa'. Extract the zip file to reveal the .mhd and .raw files."
      ],
      "metadata": {
        "id": "ekjby-JxB0pw"
      }
    },
    {
      "cell_type": "code",
      "source": [
        "# Install SimpleITK to handle CT scan files\n",
        "! pip install SimpleITK"
      ],
      "metadata": {
        "id": "rRovaXmHogCS",
        "colab": {
          "base_uri": "https://localhost:8080/"
        },
        "outputId": "f0b49293-5798-4b23-a7c4-aa0c49510e51"
      },
      "execution_count": null,
      "outputs": [
        {
          "output_type": "stream",
          "name": "stdout",
          "text": [
            "Collecting SimpleITK\n",
            "  Downloading SimpleITK-2.4.1-cp311-abi3-manylinux_2_17_x86_64.manylinux2014_x86_64.whl.metadata (7.9 kB)\n",
            "Downloading SimpleITK-2.4.1-cp311-abi3-manylinux_2_17_x86_64.manylinux2014_x86_64.whl (52.3 MB)\n",
            "\u001b[2K   \u001b[90m━━━━━━━━━━━━━━━━━━━━━━━━━━━━━━━━━━━━━━━━\u001b[0m \u001b[32m52.3/52.3 MB\u001b[0m \u001b[31m11.4 MB/s\u001b[0m eta \u001b[36m0:00:00\u001b[0m\n",
            "\u001b[?25hInstalling collected packages: SimpleITK\n",
            "Successfully installed SimpleITK-2.4.1\n"
          ]
        }
      ]
    },
    {
      "cell_type": "code",
      "source": [
        "import glob\n",
        "import matplotlib.pyplot as plt\n",
        "import numpy as np\n",
        "import pandas as pd\n",
        "import SimpleITK as sitk"
      ],
      "metadata": {
        "id": "1ny2OtncL_Nz"
      },
      "execution_count": null,
      "outputs": []
    },
    {
      "cell_type": "code",
      "source": [
        "candidates = pd.read_csv('luna16/candidates_V2/candidates_V2.csv')\n",
        "annotations = pd.read_csv(\"luna16/annotations.csv\")"
      ],
      "metadata": {
        "id": "IbFs0-FXM4qh"
      },
      "execution_count": null,
      "outputs": []
    },
    {
      "cell_type": "code",
      "source": [
        "candidates.head()"
      ],
      "metadata": {
        "colab": {
          "base_uri": "https://localhost:8080/",
          "height": 206
        },
        "id": "tyZyThCESdSz",
        "outputId": "6f6849d5-2316-4bf2-ed14-899e8379caed"
      },
      "execution_count": null,
      "outputs": [
        {
          "output_type": "execute_result",
          "data": {
            "text/plain": [
              "                                           seriesuid     coordX      coordY  \\\n",
              "0  1.3.6.1.4.1.14519.5.2.1.6279.6001.100225287222...  68.420000  -74.480000   \n",
              "1  1.3.6.1.4.1.14519.5.2.1.6279.6001.100225287222... -95.209361  -91.809406   \n",
              "2  1.3.6.1.4.1.14519.5.2.1.6279.6001.100225287222... -24.766755 -120.379294   \n",
              "3  1.3.6.1.4.1.14519.5.2.1.6279.6001.100225287222... -63.080000  -65.740000   \n",
              "4  1.3.6.1.4.1.14519.5.2.1.6279.6001.100225287222...  52.946688  -92.688873   \n",
              "\n",
              "       coordZ  class  \n",
              "0 -288.700000      0  \n",
              "1 -377.426350      0  \n",
              "2 -273.361539      0  \n",
              "3 -344.240000      0  \n",
              "4 -241.067872      0  "
            ],
            "text/html": [
              "\n",
              "  <div id=\"df-ddefee55-1648-4432-9434-b4adab4a4259\" class=\"colab-df-container\">\n",
              "    <div>\n",
              "<style scoped>\n",
              "    .dataframe tbody tr th:only-of-type {\n",
              "        vertical-align: middle;\n",
              "    }\n",
              "\n",
              "    .dataframe tbody tr th {\n",
              "        vertical-align: top;\n",
              "    }\n",
              "\n",
              "    .dataframe thead th {\n",
              "        text-align: right;\n",
              "    }\n",
              "</style>\n",
              "<table border=\"1\" class=\"dataframe\">\n",
              "  <thead>\n",
              "    <tr style=\"text-align: right;\">\n",
              "      <th></th>\n",
              "      <th>seriesuid</th>\n",
              "      <th>coordX</th>\n",
              "      <th>coordY</th>\n",
              "      <th>coordZ</th>\n",
              "      <th>class</th>\n",
              "    </tr>\n",
              "  </thead>\n",
              "  <tbody>\n",
              "    <tr>\n",
              "      <th>0</th>\n",
              "      <td>1.3.6.1.4.1.14519.5.2.1.6279.6001.100225287222...</td>\n",
              "      <td>68.420000</td>\n",
              "      <td>-74.480000</td>\n",
              "      <td>-288.700000</td>\n",
              "      <td>0</td>\n",
              "    </tr>\n",
              "    <tr>\n",
              "      <th>1</th>\n",
              "      <td>1.3.6.1.4.1.14519.5.2.1.6279.6001.100225287222...</td>\n",
              "      <td>-95.209361</td>\n",
              "      <td>-91.809406</td>\n",
              "      <td>-377.426350</td>\n",
              "      <td>0</td>\n",
              "    </tr>\n",
              "    <tr>\n",
              "      <th>2</th>\n",
              "      <td>1.3.6.1.4.1.14519.5.2.1.6279.6001.100225287222...</td>\n",
              "      <td>-24.766755</td>\n",
              "      <td>-120.379294</td>\n",
              "      <td>-273.361539</td>\n",
              "      <td>0</td>\n",
              "    </tr>\n",
              "    <tr>\n",
              "      <th>3</th>\n",
              "      <td>1.3.6.1.4.1.14519.5.2.1.6279.6001.100225287222...</td>\n",
              "      <td>-63.080000</td>\n",
              "      <td>-65.740000</td>\n",
              "      <td>-344.240000</td>\n",
              "      <td>0</td>\n",
              "    </tr>\n",
              "    <tr>\n",
              "      <th>4</th>\n",
              "      <td>1.3.6.1.4.1.14519.5.2.1.6279.6001.100225287222...</td>\n",
              "      <td>52.946688</td>\n",
              "      <td>-92.688873</td>\n",
              "      <td>-241.067872</td>\n",
              "      <td>0</td>\n",
              "    </tr>\n",
              "  </tbody>\n",
              "</table>\n",
              "</div>\n",
              "    <div class=\"colab-df-buttons\">\n",
              "\n",
              "  <div class=\"colab-df-container\">\n",
              "    <button class=\"colab-df-convert\" onclick=\"convertToInteractive('df-ddefee55-1648-4432-9434-b4adab4a4259')\"\n",
              "            title=\"Convert this dataframe to an interactive table.\"\n",
              "            style=\"display:none;\">\n",
              "\n",
              "  <svg xmlns=\"http://www.w3.org/2000/svg\" height=\"24px\" viewBox=\"0 -960 960 960\">\n",
              "    <path d=\"M120-120v-720h720v720H120Zm60-500h600v-160H180v160Zm220 220h160v-160H400v160Zm0 220h160v-160H400v160ZM180-400h160v-160H180v160Zm440 0h160v-160H620v160ZM180-180h160v-160H180v160Zm440 0h160v-160H620v160Z\"/>\n",
              "  </svg>\n",
              "    </button>\n",
              "\n",
              "  <style>\n",
              "    .colab-df-container {\n",
              "      display:flex;\n",
              "      gap: 12px;\n",
              "    }\n",
              "\n",
              "    .colab-df-convert {\n",
              "      background-color: #E8F0FE;\n",
              "      border: none;\n",
              "      border-radius: 50%;\n",
              "      cursor: pointer;\n",
              "      display: none;\n",
              "      fill: #1967D2;\n",
              "      height: 32px;\n",
              "      padding: 0 0 0 0;\n",
              "      width: 32px;\n",
              "    }\n",
              "\n",
              "    .colab-df-convert:hover {\n",
              "      background-color: #E2EBFA;\n",
              "      box-shadow: 0px 1px 2px rgba(60, 64, 67, 0.3), 0px 1px 3px 1px rgba(60, 64, 67, 0.15);\n",
              "      fill: #174EA6;\n",
              "    }\n",
              "\n",
              "    .colab-df-buttons div {\n",
              "      margin-bottom: 4px;\n",
              "    }\n",
              "\n",
              "    [theme=dark] .colab-df-convert {\n",
              "      background-color: #3B4455;\n",
              "      fill: #D2E3FC;\n",
              "    }\n",
              "\n",
              "    [theme=dark] .colab-df-convert:hover {\n",
              "      background-color: #434B5C;\n",
              "      box-shadow: 0px 1px 3px 1px rgba(0, 0, 0, 0.15);\n",
              "      filter: drop-shadow(0px 1px 2px rgba(0, 0, 0, 0.3));\n",
              "      fill: #FFFFFF;\n",
              "    }\n",
              "  </style>\n",
              "\n",
              "    <script>\n",
              "      const buttonEl =\n",
              "        document.querySelector('#df-ddefee55-1648-4432-9434-b4adab4a4259 button.colab-df-convert');\n",
              "      buttonEl.style.display =\n",
              "        google.colab.kernel.accessAllowed ? 'block' : 'none';\n",
              "\n",
              "      async function convertToInteractive(key) {\n",
              "        const element = document.querySelector('#df-ddefee55-1648-4432-9434-b4adab4a4259');\n",
              "        const dataTable =\n",
              "          await google.colab.kernel.invokeFunction('convertToInteractive',\n",
              "                                                    [key], {});\n",
              "        if (!dataTable) return;\n",
              "\n",
              "        const docLinkHtml = 'Like what you see? Visit the ' +\n",
              "          '<a target=\"_blank\" href=https://colab.research.google.com/notebooks/data_table.ipynb>data table notebook</a>'\n",
              "          + ' to learn more about interactive tables.';\n",
              "        element.innerHTML = '';\n",
              "        dataTable['output_type'] = 'display_data';\n",
              "        await google.colab.output.renderOutput(dataTable, element);\n",
              "        const docLink = document.createElement('div');\n",
              "        docLink.innerHTML = docLinkHtml;\n",
              "        element.appendChild(docLink);\n",
              "      }\n",
              "    </script>\n",
              "  </div>\n",
              "\n",
              "\n",
              "<div id=\"df-3dd5450b-9ce3-45ea-9c8c-b6022dd73acc\">\n",
              "  <button class=\"colab-df-quickchart\" onclick=\"quickchart('df-3dd5450b-9ce3-45ea-9c8c-b6022dd73acc')\"\n",
              "            title=\"Suggest charts\"\n",
              "            style=\"display:none;\">\n",
              "\n",
              "<svg xmlns=\"http://www.w3.org/2000/svg\" height=\"24px\"viewBox=\"0 0 24 24\"\n",
              "     width=\"24px\">\n",
              "    <g>\n",
              "        <path d=\"M19 3H5c-1.1 0-2 .9-2 2v14c0 1.1.9 2 2 2h14c1.1 0 2-.9 2-2V5c0-1.1-.9-2-2-2zM9 17H7v-7h2v7zm4 0h-2V7h2v10zm4 0h-2v-4h2v4z\"/>\n",
              "    </g>\n",
              "</svg>\n",
              "  </button>\n",
              "\n",
              "<style>\n",
              "  .colab-df-quickchart {\n",
              "      --bg-color: #E8F0FE;\n",
              "      --fill-color: #1967D2;\n",
              "      --hover-bg-color: #E2EBFA;\n",
              "      --hover-fill-color: #174EA6;\n",
              "      --disabled-fill-color: #AAA;\n",
              "      --disabled-bg-color: #DDD;\n",
              "  }\n",
              "\n",
              "  [theme=dark] .colab-df-quickchart {\n",
              "      --bg-color: #3B4455;\n",
              "      --fill-color: #D2E3FC;\n",
              "      --hover-bg-color: #434B5C;\n",
              "      --hover-fill-color: #FFFFFF;\n",
              "      --disabled-bg-color: #3B4455;\n",
              "      --disabled-fill-color: #666;\n",
              "  }\n",
              "\n",
              "  .colab-df-quickchart {\n",
              "    background-color: var(--bg-color);\n",
              "    border: none;\n",
              "    border-radius: 50%;\n",
              "    cursor: pointer;\n",
              "    display: none;\n",
              "    fill: var(--fill-color);\n",
              "    height: 32px;\n",
              "    padding: 0;\n",
              "    width: 32px;\n",
              "  }\n",
              "\n",
              "  .colab-df-quickchart:hover {\n",
              "    background-color: var(--hover-bg-color);\n",
              "    box-shadow: 0 1px 2px rgba(60, 64, 67, 0.3), 0 1px 3px 1px rgba(60, 64, 67, 0.15);\n",
              "    fill: var(--button-hover-fill-color);\n",
              "  }\n",
              "\n",
              "  .colab-df-quickchart-complete:disabled,\n",
              "  .colab-df-quickchart-complete:disabled:hover {\n",
              "    background-color: var(--disabled-bg-color);\n",
              "    fill: var(--disabled-fill-color);\n",
              "    box-shadow: none;\n",
              "  }\n",
              "\n",
              "  .colab-df-spinner {\n",
              "    border: 2px solid var(--fill-color);\n",
              "    border-color: transparent;\n",
              "    border-bottom-color: var(--fill-color);\n",
              "    animation:\n",
              "      spin 1s steps(1) infinite;\n",
              "  }\n",
              "\n",
              "  @keyframes spin {\n",
              "    0% {\n",
              "      border-color: transparent;\n",
              "      border-bottom-color: var(--fill-color);\n",
              "      border-left-color: var(--fill-color);\n",
              "    }\n",
              "    20% {\n",
              "      border-color: transparent;\n",
              "      border-left-color: var(--fill-color);\n",
              "      border-top-color: var(--fill-color);\n",
              "    }\n",
              "    30% {\n",
              "      border-color: transparent;\n",
              "      border-left-color: var(--fill-color);\n",
              "      border-top-color: var(--fill-color);\n",
              "      border-right-color: var(--fill-color);\n",
              "    }\n",
              "    40% {\n",
              "      border-color: transparent;\n",
              "      border-right-color: var(--fill-color);\n",
              "      border-top-color: var(--fill-color);\n",
              "    }\n",
              "    60% {\n",
              "      border-color: transparent;\n",
              "      border-right-color: var(--fill-color);\n",
              "    }\n",
              "    80% {\n",
              "      border-color: transparent;\n",
              "      border-right-color: var(--fill-color);\n",
              "      border-bottom-color: var(--fill-color);\n",
              "    }\n",
              "    90% {\n",
              "      border-color: transparent;\n",
              "      border-bottom-color: var(--fill-color);\n",
              "    }\n",
              "  }\n",
              "</style>\n",
              "\n",
              "  <script>\n",
              "    async function quickchart(key) {\n",
              "      const quickchartButtonEl =\n",
              "        document.querySelector('#' + key + ' button');\n",
              "      quickchartButtonEl.disabled = true;  // To prevent multiple clicks.\n",
              "      quickchartButtonEl.classList.add('colab-df-spinner');\n",
              "      try {\n",
              "        const charts = await google.colab.kernel.invokeFunction(\n",
              "            'suggestCharts', [key], {});\n",
              "      } catch (error) {\n",
              "        console.error('Error during call to suggestCharts:', error);\n",
              "      }\n",
              "      quickchartButtonEl.classList.remove('colab-df-spinner');\n",
              "      quickchartButtonEl.classList.add('colab-df-quickchart-complete');\n",
              "    }\n",
              "    (() => {\n",
              "      let quickchartButtonEl =\n",
              "        document.querySelector('#df-3dd5450b-9ce3-45ea-9c8c-b6022dd73acc button');\n",
              "      quickchartButtonEl.style.display =\n",
              "        google.colab.kernel.accessAllowed ? 'block' : 'none';\n",
              "    })();\n",
              "  </script>\n",
              "</div>\n",
              "\n",
              "    </div>\n",
              "  </div>\n"
            ],
            "application/vnd.google.colaboratory.intrinsic+json": {
              "type": "dataframe",
              "variable_name": "candidates"
            }
          },
          "metadata": {},
          "execution_count": 12
        }
      ]
    },
    {
      "cell_type": "code",
      "source": [
        "annotations.head()"
      ],
      "metadata": {
        "colab": {
          "base_uri": "https://localhost:8080/",
          "height": 206
        },
        "id": "KChqzToqSfxW",
        "outputId": "0fdc3266-09ea-4e65-a742-902a8d9e509d"
      },
      "execution_count": null,
      "outputs": [
        {
          "output_type": "execute_result",
          "data": {
            "text/plain": [
              "                                           seriesuid      coordX      coordY  \\\n",
              "0  1.3.6.1.4.1.14519.5.2.1.6279.6001.100225287222... -128.699421 -175.319272   \n",
              "1  1.3.6.1.4.1.14519.5.2.1.6279.6001.100225287222...  103.783651 -211.925149   \n",
              "2  1.3.6.1.4.1.14519.5.2.1.6279.6001.100398138793...   69.639017 -140.944586   \n",
              "3  1.3.6.1.4.1.14519.5.2.1.6279.6001.100621383016...  -24.013824  192.102405   \n",
              "4  1.3.6.1.4.1.14519.5.2.1.6279.6001.100621383016...    2.441547  172.464881   \n",
              "\n",
              "       coordZ  diameter_mm  \n",
              "0 -298.387506     5.651471  \n",
              "1 -227.121250     4.224708  \n",
              "2  876.374496     5.786348  \n",
              "3 -391.081276     8.143262  \n",
              "4 -405.493732    18.545150  "
            ],
            "text/html": [
              "\n",
              "  <div id=\"df-68f026eb-1fb3-41c2-b085-4ccae9ec1e7a\" class=\"colab-df-container\">\n",
              "    <div>\n",
              "<style scoped>\n",
              "    .dataframe tbody tr th:only-of-type {\n",
              "        vertical-align: middle;\n",
              "    }\n",
              "\n",
              "    .dataframe tbody tr th {\n",
              "        vertical-align: top;\n",
              "    }\n",
              "\n",
              "    .dataframe thead th {\n",
              "        text-align: right;\n",
              "    }\n",
              "</style>\n",
              "<table border=\"1\" class=\"dataframe\">\n",
              "  <thead>\n",
              "    <tr style=\"text-align: right;\">\n",
              "      <th></th>\n",
              "      <th>seriesuid</th>\n",
              "      <th>coordX</th>\n",
              "      <th>coordY</th>\n",
              "      <th>coordZ</th>\n",
              "      <th>diameter_mm</th>\n",
              "    </tr>\n",
              "  </thead>\n",
              "  <tbody>\n",
              "    <tr>\n",
              "      <th>0</th>\n",
              "      <td>1.3.6.1.4.1.14519.5.2.1.6279.6001.100225287222...</td>\n",
              "      <td>-128.699421</td>\n",
              "      <td>-175.319272</td>\n",
              "      <td>-298.387506</td>\n",
              "      <td>5.651471</td>\n",
              "    </tr>\n",
              "    <tr>\n",
              "      <th>1</th>\n",
              "      <td>1.3.6.1.4.1.14519.5.2.1.6279.6001.100225287222...</td>\n",
              "      <td>103.783651</td>\n",
              "      <td>-211.925149</td>\n",
              "      <td>-227.121250</td>\n",
              "      <td>4.224708</td>\n",
              "    </tr>\n",
              "    <tr>\n",
              "      <th>2</th>\n",
              "      <td>1.3.6.1.4.1.14519.5.2.1.6279.6001.100398138793...</td>\n",
              "      <td>69.639017</td>\n",
              "      <td>-140.944586</td>\n",
              "      <td>876.374496</td>\n",
              "      <td>5.786348</td>\n",
              "    </tr>\n",
              "    <tr>\n",
              "      <th>3</th>\n",
              "      <td>1.3.6.1.4.1.14519.5.2.1.6279.6001.100621383016...</td>\n",
              "      <td>-24.013824</td>\n",
              "      <td>192.102405</td>\n",
              "      <td>-391.081276</td>\n",
              "      <td>8.143262</td>\n",
              "    </tr>\n",
              "    <tr>\n",
              "      <th>4</th>\n",
              "      <td>1.3.6.1.4.1.14519.5.2.1.6279.6001.100621383016...</td>\n",
              "      <td>2.441547</td>\n",
              "      <td>172.464881</td>\n",
              "      <td>-405.493732</td>\n",
              "      <td>18.545150</td>\n",
              "    </tr>\n",
              "  </tbody>\n",
              "</table>\n",
              "</div>\n",
              "    <div class=\"colab-df-buttons\">\n",
              "\n",
              "  <div class=\"colab-df-container\">\n",
              "    <button class=\"colab-df-convert\" onclick=\"convertToInteractive('df-68f026eb-1fb3-41c2-b085-4ccae9ec1e7a')\"\n",
              "            title=\"Convert this dataframe to an interactive table.\"\n",
              "            style=\"display:none;\">\n",
              "\n",
              "  <svg xmlns=\"http://www.w3.org/2000/svg\" height=\"24px\" viewBox=\"0 -960 960 960\">\n",
              "    <path d=\"M120-120v-720h720v720H120Zm60-500h600v-160H180v160Zm220 220h160v-160H400v160Zm0 220h160v-160H400v160ZM180-400h160v-160H180v160Zm440 0h160v-160H620v160ZM180-180h160v-160H180v160Zm440 0h160v-160H620v160Z\"/>\n",
              "  </svg>\n",
              "    </button>\n",
              "\n",
              "  <style>\n",
              "    .colab-df-container {\n",
              "      display:flex;\n",
              "      gap: 12px;\n",
              "    }\n",
              "\n",
              "    .colab-df-convert {\n",
              "      background-color: #E8F0FE;\n",
              "      border: none;\n",
              "      border-radius: 50%;\n",
              "      cursor: pointer;\n",
              "      display: none;\n",
              "      fill: #1967D2;\n",
              "      height: 32px;\n",
              "      padding: 0 0 0 0;\n",
              "      width: 32px;\n",
              "    }\n",
              "\n",
              "    .colab-df-convert:hover {\n",
              "      background-color: #E2EBFA;\n",
              "      box-shadow: 0px 1px 2px rgba(60, 64, 67, 0.3), 0px 1px 3px 1px rgba(60, 64, 67, 0.15);\n",
              "      fill: #174EA6;\n",
              "    }\n",
              "\n",
              "    .colab-df-buttons div {\n",
              "      margin-bottom: 4px;\n",
              "    }\n",
              "\n",
              "    [theme=dark] .colab-df-convert {\n",
              "      background-color: #3B4455;\n",
              "      fill: #D2E3FC;\n",
              "    }\n",
              "\n",
              "    [theme=dark] .colab-df-convert:hover {\n",
              "      background-color: #434B5C;\n",
              "      box-shadow: 0px 1px 3px 1px rgba(0, 0, 0, 0.15);\n",
              "      filter: drop-shadow(0px 1px 2px rgba(0, 0, 0, 0.3));\n",
              "      fill: #FFFFFF;\n",
              "    }\n",
              "  </style>\n",
              "\n",
              "    <script>\n",
              "      const buttonEl =\n",
              "        document.querySelector('#df-68f026eb-1fb3-41c2-b085-4ccae9ec1e7a button.colab-df-convert');\n",
              "      buttonEl.style.display =\n",
              "        google.colab.kernel.accessAllowed ? 'block' : 'none';\n",
              "\n",
              "      async function convertToInteractive(key) {\n",
              "        const element = document.querySelector('#df-68f026eb-1fb3-41c2-b085-4ccae9ec1e7a');\n",
              "        const dataTable =\n",
              "          await google.colab.kernel.invokeFunction('convertToInteractive',\n",
              "                                                    [key], {});\n",
              "        if (!dataTable) return;\n",
              "\n",
              "        const docLinkHtml = 'Like what you see? Visit the ' +\n",
              "          '<a target=\"_blank\" href=https://colab.research.google.com/notebooks/data_table.ipynb>data table notebook</a>'\n",
              "          + ' to learn more about interactive tables.';\n",
              "        element.innerHTML = '';\n",
              "        dataTable['output_type'] = 'display_data';\n",
              "        await google.colab.output.renderOutput(dataTable, element);\n",
              "        const docLink = document.createElement('div');\n",
              "        docLink.innerHTML = docLinkHtml;\n",
              "        element.appendChild(docLink);\n",
              "      }\n",
              "    </script>\n",
              "  </div>\n",
              "\n",
              "\n",
              "<div id=\"df-757e6f02-eee2-4a04-addc-bab6697d4cd0\">\n",
              "  <button class=\"colab-df-quickchart\" onclick=\"quickchart('df-757e6f02-eee2-4a04-addc-bab6697d4cd0')\"\n",
              "            title=\"Suggest charts\"\n",
              "            style=\"display:none;\">\n",
              "\n",
              "<svg xmlns=\"http://www.w3.org/2000/svg\" height=\"24px\"viewBox=\"0 0 24 24\"\n",
              "     width=\"24px\">\n",
              "    <g>\n",
              "        <path d=\"M19 3H5c-1.1 0-2 .9-2 2v14c0 1.1.9 2 2 2h14c1.1 0 2-.9 2-2V5c0-1.1-.9-2-2-2zM9 17H7v-7h2v7zm4 0h-2V7h2v10zm4 0h-2v-4h2v4z\"/>\n",
              "    </g>\n",
              "</svg>\n",
              "  </button>\n",
              "\n",
              "<style>\n",
              "  .colab-df-quickchart {\n",
              "      --bg-color: #E8F0FE;\n",
              "      --fill-color: #1967D2;\n",
              "      --hover-bg-color: #E2EBFA;\n",
              "      --hover-fill-color: #174EA6;\n",
              "      --disabled-fill-color: #AAA;\n",
              "      --disabled-bg-color: #DDD;\n",
              "  }\n",
              "\n",
              "  [theme=dark] .colab-df-quickchart {\n",
              "      --bg-color: #3B4455;\n",
              "      --fill-color: #D2E3FC;\n",
              "      --hover-bg-color: #434B5C;\n",
              "      --hover-fill-color: #FFFFFF;\n",
              "      --disabled-bg-color: #3B4455;\n",
              "      --disabled-fill-color: #666;\n",
              "  }\n",
              "\n",
              "  .colab-df-quickchart {\n",
              "    background-color: var(--bg-color);\n",
              "    border: none;\n",
              "    border-radius: 50%;\n",
              "    cursor: pointer;\n",
              "    display: none;\n",
              "    fill: var(--fill-color);\n",
              "    height: 32px;\n",
              "    padding: 0;\n",
              "    width: 32px;\n",
              "  }\n",
              "\n",
              "  .colab-df-quickchart:hover {\n",
              "    background-color: var(--hover-bg-color);\n",
              "    box-shadow: 0 1px 2px rgba(60, 64, 67, 0.3), 0 1px 3px 1px rgba(60, 64, 67, 0.15);\n",
              "    fill: var(--button-hover-fill-color);\n",
              "  }\n",
              "\n",
              "  .colab-df-quickchart-complete:disabled,\n",
              "  .colab-df-quickchart-complete:disabled:hover {\n",
              "    background-color: var(--disabled-bg-color);\n",
              "    fill: var(--disabled-fill-color);\n",
              "    box-shadow: none;\n",
              "  }\n",
              "\n",
              "  .colab-df-spinner {\n",
              "    border: 2px solid var(--fill-color);\n",
              "    border-color: transparent;\n",
              "    border-bottom-color: var(--fill-color);\n",
              "    animation:\n",
              "      spin 1s steps(1) infinite;\n",
              "  }\n",
              "\n",
              "  @keyframes spin {\n",
              "    0% {\n",
              "      border-color: transparent;\n",
              "      border-bottom-color: var(--fill-color);\n",
              "      border-left-color: var(--fill-color);\n",
              "    }\n",
              "    20% {\n",
              "      border-color: transparent;\n",
              "      border-left-color: var(--fill-color);\n",
              "      border-top-color: var(--fill-color);\n",
              "    }\n",
              "    30% {\n",
              "      border-color: transparent;\n",
              "      border-left-color: var(--fill-color);\n",
              "      border-top-color: var(--fill-color);\n",
              "      border-right-color: var(--fill-color);\n",
              "    }\n",
              "    40% {\n",
              "      border-color: transparent;\n",
              "      border-right-color: var(--fill-color);\n",
              "      border-top-color: var(--fill-color);\n",
              "    }\n",
              "    60% {\n",
              "      border-color: transparent;\n",
              "      border-right-color: var(--fill-color);\n",
              "    }\n",
              "    80% {\n",
              "      border-color: transparent;\n",
              "      border-right-color: var(--fill-color);\n",
              "      border-bottom-color: var(--fill-color);\n",
              "    }\n",
              "    90% {\n",
              "      border-color: transparent;\n",
              "      border-bottom-color: var(--fill-color);\n",
              "    }\n",
              "  }\n",
              "</style>\n",
              "\n",
              "  <script>\n",
              "    async function quickchart(key) {\n",
              "      const quickchartButtonEl =\n",
              "        document.querySelector('#' + key + ' button');\n",
              "      quickchartButtonEl.disabled = true;  // To prevent multiple clicks.\n",
              "      quickchartButtonEl.classList.add('colab-df-spinner');\n",
              "      try {\n",
              "        const charts = await google.colab.kernel.invokeFunction(\n",
              "            'suggestCharts', [key], {});\n",
              "      } catch (error) {\n",
              "        console.error('Error during call to suggestCharts:', error);\n",
              "      }\n",
              "      quickchartButtonEl.classList.remove('colab-df-spinner');\n",
              "      quickchartButtonEl.classList.add('colab-df-quickchart-complete');\n",
              "    }\n",
              "    (() => {\n",
              "      let quickchartButtonEl =\n",
              "        document.querySelector('#df-757e6f02-eee2-4a04-addc-bab6697d4cd0 button');\n",
              "      quickchartButtonEl.style.display =\n",
              "        google.colab.kernel.accessAllowed ? 'block' : 'none';\n",
              "    })();\n",
              "  </script>\n",
              "</div>\n",
              "\n",
              "    </div>\n",
              "  </div>\n"
            ],
            "application/vnd.google.colaboratory.intrinsic+json": {
              "type": "dataframe",
              "variable_name": "annotations",
              "summary": "{\n  \"name\": \"annotations\",\n  \"rows\": 1186,\n  \"fields\": [\n    {\n      \"column\": \"seriesuid\",\n      \"properties\": {\n        \"dtype\": \"string\",\n        \"num_unique_values\": 601,\n        \"samples\": [\n          \"1.3.6.1.4.1.14519.5.2.1.6279.6001.161855583909753609742728521805\",\n          \"1.3.6.1.4.1.14519.5.2.1.6279.6001.315187221221054114974341475212\",\n          \"1.3.6.1.4.1.14519.5.2.1.6279.6001.826829446346820089862659555750\"\n        ],\n        \"semantic_type\": \"\",\n        \"description\": \"\"\n      }\n    },\n    {\n      \"column\": \"coordX\",\n      \"properties\": {\n        \"dtype\": \"number\",\n        \"std\": 84.46811508550043,\n        \"min\": -164.3510309,\n        \"max\": 164.7639846,\n        \"num_unique_values\": 1186,\n        \"samples\": [\n          20.57233382,\n          -68.66002474,\n          -102.1895703\n        ],\n        \"semantic_type\": \"\",\n        \"description\": \"\"\n      }\n    },\n    {\n      \"column\": \"coordY\",\n      \"properties\": {\n        \"dtype\": \"number\",\n        \"std\": 98.31600335691003,\n        \"min\": -283.8343361,\n        \"max\": 271.405521,\n        \"num_unique_values\": 1186,\n        \"samples\": [\n          93.68779093,\n          -222.4854341,\n          -73.86576556\n        ],\n        \"semantic_type\": \"\",\n        \"description\": \"\"\n      }\n    },\n    {\n      \"column\": \"coordZ\",\n      \"properties\": {\n        \"dtype\": \"number\",\n        \"std\": 279.8294372600174,\n        \"min\": -790.0747986,\n        \"max\": 1790.494057,\n        \"num_unique_values\": 1186,\n        \"samples\": [\n          -181.0413165,\n          721.576668,\n          -220.5362409\n        ],\n        \"semantic_type\": \"\",\n        \"description\": \"\"\n      }\n    },\n    {\n      \"column\": \"diameter_mm\",\n      \"properties\": {\n        \"dtype\": \"number\",\n        \"std\": 4.762032807179361,\n        \"min\": 3.253443196,\n        \"max\": 32.27003025,\n        \"num_unique_values\": 1186,\n        \"samples\": [\n          6.974134428,\n          6.470686725,\n          4.55610095\n        ],\n        \"semantic_type\": \"\",\n        \"description\": \"\"\n      }\n    }\n  ]\n}"
            }
          },
          "metadata": {},
          "execution_count": 13
        }
      ]
    },
    {
      "cell_type": "code",
      "source": [
        "from pydrive2.auth import GoogleAuth\n",
        "from pydrive2.drive import GoogleDrive\n",
        "from google.colab import auth\n",
        "from oauth2client.client import GoogleCredentials\n",
        "\n",
        "# Authenticate and create the PyDrive client\n",
        "auth.authenticate_user()\n",
        "gauth = GoogleAuth()\n",
        "gauth.credentials = GoogleCredentials.get_application_default()\n",
        "drive = GoogleDrive(gauth)"
      ],
      "metadata": {
        "id": "R9FGhUG0MZu3"
      },
      "execution_count": null,
      "outputs": []
    },
    {
      "cell_type": "code",
      "source": [
        "id='1OFa8UhDvCrcTj1VkFLa7RjifEqMD4TAa'\n",
        "downloaded = drive.CreateFile({'id': id})\n",
        "downloaded.GetContentFile('subset0.zip')"
      ],
      "metadata": {
        "id": "9iNouRhhMdXe"
      },
      "execution_count": null,
      "outputs": []
    },
    {
      "cell_type": "code",
      "source": [
        "! unzip -q subset0.zip"
      ],
      "metadata": {
        "id": "36-SZ_VqOaLC"
      },
      "execution_count": null,
      "outputs": []
    },
    {
      "cell_type": "markdown",
      "source": [
        "2.2 Create a Pandas data frame that contains these 8 colums: `seriesuid`, `coordX`, `coordY`, `coordZ`, `class`, `index`, `row`, `col`. The last three columns should be calculated using the three coordiantes and the information about the origin and spacing of the corresponding CT scan."
      ],
      "metadata": {
        "id": "suwnYlhxAyJl"
      }
    },
    {
      "cell_type": "code",
      "source": [
        "# Get list of available CT scans\n",
        "all_mhd = glob.glob('subset0/*.mhd')\n",
        "ids = [f[f.find('1.') : f.find('.mhd')] for f in all_mhd]"
      ],
      "metadata": {
        "id": "zjUleNOK4dVa"
      },
      "execution_count": null,
      "outputs": []
    },
    {
      "cell_type": "code",
      "source": [
        "# Initialize metadata dataframe\n",
        "ct_info = pd.DataFrame(index=ids, columns=['originX', 'originY', 'originZ', 'spacingX', 'spacingY', 'spacingZ'])"
      ],
      "metadata": {
        "id": "fU58SjJW6rRb"
      },
      "execution_count": null,
      "outputs": []
    },
    {
      "cell_type": "code",
      "source": [
        "# Extract origin and spacing from each scan\n",
        "for uid in ids:\n",
        "    mhd_path = f'subset0/{uid}.mhd'\n",
        "    image = sitk.ReadImage(mhd_path)\n",
        "    ct_info.loc[uid, ['originX', 'originY', 'originZ']] = image.GetOrigin()\n",
        "    ct_info.loc[uid, ['spacingX', 'spacingY', 'spacingZ']] = image.GetSpacing()"
      ],
      "metadata": {
        "id": "p2FWLmt0FQmf"
      },
      "execution_count": null,
      "outputs": []
    },
    {
      "cell_type": "code",
      "source": [
        "# Use only candidates with available scans\n",
        "candidates_small = candidates[candidates['seriesuid'].isin(ids)].copy()"
      ],
      "metadata": {
        "id": "sGqPN8nhFmka"
      },
      "execution_count": null,
      "outputs": []
    },
    {
      "cell_type": "code",
      "source": [
        "# Define default direction matrix (identity)\n",
        "direction = np.eye(3)"
      ],
      "metadata": {
        "id": "JGHud7cyFpeG"
      },
      "execution_count": null,
      "outputs": []
    },
    {
      "cell_type": "code",
      "source": [
        "# Convert coordinates to voxel indices\n",
        "index_list, row_list, col_list = [], [], []\n",
        "for idx in candidates_small.index:\n",
        "    uid = candidates_small.at[idx, 'seriesuid']\n",
        "    origin = ct_info.loc[uid, ['originX', 'originY', 'originZ']].astype(float).values\n",
        "    spacing = ct_info.loc[uid, ['spacingX', 'spacingY', 'spacingZ']].astype(float).values\n",
        "    world_coord = candidates_small.loc[idx, ['coordX', 'coordY', 'coordZ']].values.astype(float)\n",
        "\n",
        "    voxel = np.round(((world_coord - origin) @ np.linalg.inv(direction)) / spacing).astype(int)\n",
        "    col, row, index = voxel[0], voxel[1], voxel[2]\n",
        "\n",
        "    index_list.append(index)\n",
        "    row_list.append(row)\n",
        "    col_list.append(col)"
      ],
      "metadata": {
        "id": "FuOltoR3FsQn"
      },
      "execution_count": null,
      "outputs": []
    },
    {
      "cell_type": "code",
      "source": [
        "# Add new columns to the DataFrame\n",
        "candidates_small['index'] = index_list\n",
        "candidates_small['row'] = row_list\n",
        "candidates_small['col'] = col_list"
      ],
      "metadata": {
        "id": "f5BqCYqFFutE"
      },
      "execution_count": null,
      "outputs": []
    },
    {
      "cell_type": "code",
      "source": [
        "candidates_small.head()"
      ],
      "metadata": {
        "colab": {
          "base_uri": "https://localhost:8080/",
          "height": 206
        },
        "id": "urjhds7FF_yg",
        "outputId": "a7a6d650-9a6f-40cc-ca52-71ecf6b813ad"
      },
      "execution_count": null,
      "outputs": [
        {
          "output_type": "execute_result",
          "data": {
            "text/plain": [
              "                                               seriesuid      coordX  \\\n",
              "11673  1.3.6.1.4.1.14519.5.2.1.6279.6001.105756658031...  -66.383107   \n",
              "11674  1.3.6.1.4.1.14519.5.2.1.6279.6001.105756658031... -132.856859   \n",
              "11675  1.3.6.1.4.1.14519.5.2.1.6279.6001.105756658031...   84.770000   \n",
              "11676  1.3.6.1.4.1.14519.5.2.1.6279.6001.105756658031...  134.805360   \n",
              "11677  1.3.6.1.4.1.14519.5.2.1.6279.6001.105756658031...  -87.092676   \n",
              "\n",
              "          coordY      coordZ  class  index  row  col  \n",
              "11673  57.143607  -60.885862      0    110  331  173  \n",
              "11674  23.813034 -274.350845      0     24  287   86  \n",
              "11675  66.170000 -249.880000      0     34  343  371  \n",
              "11676  29.696241 -268.116009      0     27  295  437  \n",
              "11677  41.722383 -208.831394      0     51  311  146  "
            ],
            "text/html": [
              "\n",
              "  <div id=\"df-f6324097-634e-49b7-86c5-7c4ecf94cd94\" class=\"colab-df-container\">\n",
              "    <div>\n",
              "<style scoped>\n",
              "    .dataframe tbody tr th:only-of-type {\n",
              "        vertical-align: middle;\n",
              "    }\n",
              "\n",
              "    .dataframe tbody tr th {\n",
              "        vertical-align: top;\n",
              "    }\n",
              "\n",
              "    .dataframe thead th {\n",
              "        text-align: right;\n",
              "    }\n",
              "</style>\n",
              "<table border=\"1\" class=\"dataframe\">\n",
              "  <thead>\n",
              "    <tr style=\"text-align: right;\">\n",
              "      <th></th>\n",
              "      <th>seriesuid</th>\n",
              "      <th>coordX</th>\n",
              "      <th>coordY</th>\n",
              "      <th>coordZ</th>\n",
              "      <th>class</th>\n",
              "      <th>index</th>\n",
              "      <th>row</th>\n",
              "      <th>col</th>\n",
              "    </tr>\n",
              "  </thead>\n",
              "  <tbody>\n",
              "    <tr>\n",
              "      <th>11673</th>\n",
              "      <td>1.3.6.1.4.1.14519.5.2.1.6279.6001.105756658031...</td>\n",
              "      <td>-66.383107</td>\n",
              "      <td>57.143607</td>\n",
              "      <td>-60.885862</td>\n",
              "      <td>0</td>\n",
              "      <td>110</td>\n",
              "      <td>331</td>\n",
              "      <td>173</td>\n",
              "    </tr>\n",
              "    <tr>\n",
              "      <th>11674</th>\n",
              "      <td>1.3.6.1.4.1.14519.5.2.1.6279.6001.105756658031...</td>\n",
              "      <td>-132.856859</td>\n",
              "      <td>23.813034</td>\n",
              "      <td>-274.350845</td>\n",
              "      <td>0</td>\n",
              "      <td>24</td>\n",
              "      <td>287</td>\n",
              "      <td>86</td>\n",
              "    </tr>\n",
              "    <tr>\n",
              "      <th>11675</th>\n",
              "      <td>1.3.6.1.4.1.14519.5.2.1.6279.6001.105756658031...</td>\n",
              "      <td>84.770000</td>\n",
              "      <td>66.170000</td>\n",
              "      <td>-249.880000</td>\n",
              "      <td>0</td>\n",
              "      <td>34</td>\n",
              "      <td>343</td>\n",
              "      <td>371</td>\n",
              "    </tr>\n",
              "    <tr>\n",
              "      <th>11676</th>\n",
              "      <td>1.3.6.1.4.1.14519.5.2.1.6279.6001.105756658031...</td>\n",
              "      <td>134.805360</td>\n",
              "      <td>29.696241</td>\n",
              "      <td>-268.116009</td>\n",
              "      <td>0</td>\n",
              "      <td>27</td>\n",
              "      <td>295</td>\n",
              "      <td>437</td>\n",
              "    </tr>\n",
              "    <tr>\n",
              "      <th>11677</th>\n",
              "      <td>1.3.6.1.4.1.14519.5.2.1.6279.6001.105756658031...</td>\n",
              "      <td>-87.092676</td>\n",
              "      <td>41.722383</td>\n",
              "      <td>-208.831394</td>\n",
              "      <td>0</td>\n",
              "      <td>51</td>\n",
              "      <td>311</td>\n",
              "      <td>146</td>\n",
              "    </tr>\n",
              "  </tbody>\n",
              "</table>\n",
              "</div>\n",
              "    <div class=\"colab-df-buttons\">\n",
              "\n",
              "  <div class=\"colab-df-container\">\n",
              "    <button class=\"colab-df-convert\" onclick=\"convertToInteractive('df-f6324097-634e-49b7-86c5-7c4ecf94cd94')\"\n",
              "            title=\"Convert this dataframe to an interactive table.\"\n",
              "            style=\"display:none;\">\n",
              "\n",
              "  <svg xmlns=\"http://www.w3.org/2000/svg\" height=\"24px\" viewBox=\"0 -960 960 960\">\n",
              "    <path d=\"M120-120v-720h720v720H120Zm60-500h600v-160H180v160Zm220 220h160v-160H400v160Zm0 220h160v-160H400v160ZM180-400h160v-160H180v160Zm440 0h160v-160H620v160ZM180-180h160v-160H180v160Zm440 0h160v-160H620v160Z\"/>\n",
              "  </svg>\n",
              "    </button>\n",
              "\n",
              "  <style>\n",
              "    .colab-df-container {\n",
              "      display:flex;\n",
              "      gap: 12px;\n",
              "    }\n",
              "\n",
              "    .colab-df-convert {\n",
              "      background-color: #E8F0FE;\n",
              "      border: none;\n",
              "      border-radius: 50%;\n",
              "      cursor: pointer;\n",
              "      display: none;\n",
              "      fill: #1967D2;\n",
              "      height: 32px;\n",
              "      padding: 0 0 0 0;\n",
              "      width: 32px;\n",
              "    }\n",
              "\n",
              "    .colab-df-convert:hover {\n",
              "      background-color: #E2EBFA;\n",
              "      box-shadow: 0px 1px 2px rgba(60, 64, 67, 0.3), 0px 1px 3px 1px rgba(60, 64, 67, 0.15);\n",
              "      fill: #174EA6;\n",
              "    }\n",
              "\n",
              "    .colab-df-buttons div {\n",
              "      margin-bottom: 4px;\n",
              "    }\n",
              "\n",
              "    [theme=dark] .colab-df-convert {\n",
              "      background-color: #3B4455;\n",
              "      fill: #D2E3FC;\n",
              "    }\n",
              "\n",
              "    [theme=dark] .colab-df-convert:hover {\n",
              "      background-color: #434B5C;\n",
              "      box-shadow: 0px 1px 3px 1px rgba(0, 0, 0, 0.15);\n",
              "      filter: drop-shadow(0px 1px 2px rgba(0, 0, 0, 0.3));\n",
              "      fill: #FFFFFF;\n",
              "    }\n",
              "  </style>\n",
              "\n",
              "    <script>\n",
              "      const buttonEl =\n",
              "        document.querySelector('#df-f6324097-634e-49b7-86c5-7c4ecf94cd94 button.colab-df-convert');\n",
              "      buttonEl.style.display =\n",
              "        google.colab.kernel.accessAllowed ? 'block' : 'none';\n",
              "\n",
              "      async function convertToInteractive(key) {\n",
              "        const element = document.querySelector('#df-f6324097-634e-49b7-86c5-7c4ecf94cd94');\n",
              "        const dataTable =\n",
              "          await google.colab.kernel.invokeFunction('convertToInteractive',\n",
              "                                                    [key], {});\n",
              "        if (!dataTable) return;\n",
              "\n",
              "        const docLinkHtml = 'Like what you see? Visit the ' +\n",
              "          '<a target=\"_blank\" href=https://colab.research.google.com/notebooks/data_table.ipynb>data table notebook</a>'\n",
              "          + ' to learn more about interactive tables.';\n",
              "        element.innerHTML = '';\n",
              "        dataTable['output_type'] = 'display_data';\n",
              "        await google.colab.output.renderOutput(dataTable, element);\n",
              "        const docLink = document.createElement('div');\n",
              "        docLink.innerHTML = docLinkHtml;\n",
              "        element.appendChild(docLink);\n",
              "      }\n",
              "    </script>\n",
              "  </div>\n",
              "\n",
              "\n",
              "<div id=\"df-c985e359-394a-43c2-8cc1-95d7dddc2e28\">\n",
              "  <button class=\"colab-df-quickchart\" onclick=\"quickchart('df-c985e359-394a-43c2-8cc1-95d7dddc2e28')\"\n",
              "            title=\"Suggest charts\"\n",
              "            style=\"display:none;\">\n",
              "\n",
              "<svg xmlns=\"http://www.w3.org/2000/svg\" height=\"24px\"viewBox=\"0 0 24 24\"\n",
              "     width=\"24px\">\n",
              "    <g>\n",
              "        <path d=\"M19 3H5c-1.1 0-2 .9-2 2v14c0 1.1.9 2 2 2h14c1.1 0 2-.9 2-2V5c0-1.1-.9-2-2-2zM9 17H7v-7h2v7zm4 0h-2V7h2v10zm4 0h-2v-4h2v4z\"/>\n",
              "    </g>\n",
              "</svg>\n",
              "  </button>\n",
              "\n",
              "<style>\n",
              "  .colab-df-quickchart {\n",
              "      --bg-color: #E8F0FE;\n",
              "      --fill-color: #1967D2;\n",
              "      --hover-bg-color: #E2EBFA;\n",
              "      --hover-fill-color: #174EA6;\n",
              "      --disabled-fill-color: #AAA;\n",
              "      --disabled-bg-color: #DDD;\n",
              "  }\n",
              "\n",
              "  [theme=dark] .colab-df-quickchart {\n",
              "      --bg-color: #3B4455;\n",
              "      --fill-color: #D2E3FC;\n",
              "      --hover-bg-color: #434B5C;\n",
              "      --hover-fill-color: #FFFFFF;\n",
              "      --disabled-bg-color: #3B4455;\n",
              "      --disabled-fill-color: #666;\n",
              "  }\n",
              "\n",
              "  .colab-df-quickchart {\n",
              "    background-color: var(--bg-color);\n",
              "    border: none;\n",
              "    border-radius: 50%;\n",
              "    cursor: pointer;\n",
              "    display: none;\n",
              "    fill: var(--fill-color);\n",
              "    height: 32px;\n",
              "    padding: 0;\n",
              "    width: 32px;\n",
              "  }\n",
              "\n",
              "  .colab-df-quickchart:hover {\n",
              "    background-color: var(--hover-bg-color);\n",
              "    box-shadow: 0 1px 2px rgba(60, 64, 67, 0.3), 0 1px 3px 1px rgba(60, 64, 67, 0.15);\n",
              "    fill: var(--button-hover-fill-color);\n",
              "  }\n",
              "\n",
              "  .colab-df-quickchart-complete:disabled,\n",
              "  .colab-df-quickchart-complete:disabled:hover {\n",
              "    background-color: var(--disabled-bg-color);\n",
              "    fill: var(--disabled-fill-color);\n",
              "    box-shadow: none;\n",
              "  }\n",
              "\n",
              "  .colab-df-spinner {\n",
              "    border: 2px solid var(--fill-color);\n",
              "    border-color: transparent;\n",
              "    border-bottom-color: var(--fill-color);\n",
              "    animation:\n",
              "      spin 1s steps(1) infinite;\n",
              "  }\n",
              "\n",
              "  @keyframes spin {\n",
              "    0% {\n",
              "      border-color: transparent;\n",
              "      border-bottom-color: var(--fill-color);\n",
              "      border-left-color: var(--fill-color);\n",
              "    }\n",
              "    20% {\n",
              "      border-color: transparent;\n",
              "      border-left-color: var(--fill-color);\n",
              "      border-top-color: var(--fill-color);\n",
              "    }\n",
              "    30% {\n",
              "      border-color: transparent;\n",
              "      border-left-color: var(--fill-color);\n",
              "      border-top-color: var(--fill-color);\n",
              "      border-right-color: var(--fill-color);\n",
              "    }\n",
              "    40% {\n",
              "      border-color: transparent;\n",
              "      border-right-color: var(--fill-color);\n",
              "      border-top-color: var(--fill-color);\n",
              "    }\n",
              "    60% {\n",
              "      border-color: transparent;\n",
              "      border-right-color: var(--fill-color);\n",
              "    }\n",
              "    80% {\n",
              "      border-color: transparent;\n",
              "      border-right-color: var(--fill-color);\n",
              "      border-bottom-color: var(--fill-color);\n",
              "    }\n",
              "    90% {\n",
              "      border-color: transparent;\n",
              "      border-bottom-color: var(--fill-color);\n",
              "    }\n",
              "  }\n",
              "</style>\n",
              "\n",
              "  <script>\n",
              "    async function quickchart(key) {\n",
              "      const quickchartButtonEl =\n",
              "        document.querySelector('#' + key + ' button');\n",
              "      quickchartButtonEl.disabled = true;  // To prevent multiple clicks.\n",
              "      quickchartButtonEl.classList.add('colab-df-spinner');\n",
              "      try {\n",
              "        const charts = await google.colab.kernel.invokeFunction(\n",
              "            'suggestCharts', [key], {});\n",
              "      } catch (error) {\n",
              "        console.error('Error during call to suggestCharts:', error);\n",
              "      }\n",
              "      quickchartButtonEl.classList.remove('colab-df-spinner');\n",
              "      quickchartButtonEl.classList.add('colab-df-quickchart-complete');\n",
              "    }\n",
              "    (() => {\n",
              "      let quickchartButtonEl =\n",
              "        document.querySelector('#df-c985e359-394a-43c2-8cc1-95d7dddc2e28 button');\n",
              "      quickchartButtonEl.style.display =\n",
              "        google.colab.kernel.accessAllowed ? 'block' : 'none';\n",
              "    })();\n",
              "  </script>\n",
              "</div>\n",
              "\n",
              "    </div>\n",
              "  </div>\n"
            ],
            "application/vnd.google.colaboratory.intrinsic+json": {
              "type": "dataframe",
              "variable_name": "candidates_small",
              "summary": "{\n  \"name\": \"candidates_small\",\n  \"rows\": 79135,\n  \"fields\": [\n    {\n      \"column\": \"seriesuid\",\n      \"properties\": {\n        \"dtype\": \"category\",\n        \"num_unique_values\": 89,\n        \"samples\": [\n          \"1.3.6.1.4.1.14519.5.2.1.6279.6001.293757615532132808762625441831\",\n          \"1.3.6.1.4.1.14519.5.2.1.6279.6001.311981398931043315779172047718\",\n          \"1.3.6.1.4.1.14519.5.2.1.6279.6001.219909753224298157409438012179\"\n        ],\n        \"semantic_type\": \"\",\n        \"description\": \"\"\n      }\n    },\n    {\n      \"column\": \"coordX\",\n      \"properties\": {\n        \"dtype\": \"number\",\n        \"std\": 70.87417615263108,\n        \"min\": -187.77,\n        \"max\": 176.0,\n        \"num_unique_values\": 54080,\n        \"samples\": [\n          42.42753227,\n          44.75862465,\n          63.05\n        ],\n        \"semantic_type\": \"\",\n        \"description\": \"\"\n      }\n    },\n    {\n      \"column\": \"coordY\",\n      \"properties\": {\n        \"dtype\": \"number\",\n        \"std\": 98.64920325348609,\n        \"min\": -298.07,\n        \"max\": 285.4349712,\n        \"num_unique_values\": 57576,\n        \"samples\": [\n          84.28914758,\n          25.04563448,\n          50.845\n        ],\n        \"semantic_type\": \"\",\n        \"description\": \"\"\n      }\n    },\n    {\n      \"column\": \"coordZ\",\n      \"properties\": {\n        \"dtype\": \"number\",\n        \"std\": 351.2875205588508,\n        \"min\": -895.22,\n        \"max\": 1833.82,\n        \"num_unique_values\": 58959,\n        \"samples\": [\n          -130.1697223,\n          -53.88834973,\n          -529.35\n        ],\n        \"semantic_type\": \"\",\n        \"description\": \"\"\n      }\n    },\n    {\n      \"column\": \"class\",\n      \"properties\": {\n        \"dtype\": \"number\",\n        \"std\": 0,\n        \"min\": 0,\n        \"max\": 1,\n        \"num_unique_values\": 2,\n        \"samples\": [\n          1,\n          0\n        ],\n        \"semantic_type\": \"\",\n        \"description\": \"\"\n      }\n    },\n    {\n      \"column\": \"index\",\n      \"properties\": {\n        \"dtype\": \"number\",\n        \"std\": 92,\n        \"min\": 1,\n        \"max\": 685,\n        \"num_unique_values\": 639,\n        \"samples\": [\n          101,\n          217\n        ],\n        \"semantic_type\": \"\",\n        \"description\": \"\"\n      }\n    },\n    {\n      \"column\": \"row\",\n      \"properties\": {\n        \"dtype\": \"number\",\n        \"std\": 63,\n        \"min\": 9,\n        \"max\": 435,\n        \"num_unique_values\": 364,\n        \"samples\": [\n          146,\n          340\n        ],\n        \"semantic_type\": \"\",\n        \"description\": \"\"\n      }\n    },\n    {\n      \"column\": \"col\",\n      \"properties\": {\n        \"dtype\": \"number\",\n        \"std\": 101,\n        \"min\": 13,\n        \"max\": 491,\n        \"num_unique_values\": 468,\n        \"samples\": [\n          398,\n          463\n        ],\n        \"semantic_type\": \"\",\n        \"description\": \"\"\n      }\n    }\n  ]\n}"
            }
          },
          "metadata": {},
          "execution_count": 24
        }
      ]
    },
    {
      "cell_type": "markdown",
      "source": [
        "2.3 Save the data frame as a CSV file named `candiadates_processed.csv`. This allows you to skip Step 2.2 in future calculations.\n",
        "\n",
        "\n"
      ],
      "metadata": {
        "id": "APzzVDhJCMg4"
      }
    },
    {
      "cell_type": "code",
      "source": [
        "# Save to Google Drive\n",
        "from google.colab import drive\n",
        "drive.mount('/content/drive')"
      ],
      "metadata": {
        "colab": {
          "base_uri": "https://localhost:8080/"
        },
        "id": "PIi5ydrRKX3T",
        "outputId": "bc2cdc04-030d-4bb3-d47a-8c59ef7646a9"
      },
      "execution_count": null,
      "outputs": [
        {
          "output_type": "stream",
          "name": "stdout",
          "text": [
            "Mounted at /content/drive\n"
          ]
        }
      ]
    },
    {
      "cell_type": "code",
      "source": [
        "# Mount Google Drive as a folder in this environment\n",
        "!ls drive/MyDrive"
      ],
      "metadata": {
        "id": "3JfcZPVtKhPg"
      },
      "execution_count": null,
      "outputs": []
    },
    {
      "cell_type": "code",
      "source": [
        "# Save the index data to a CSV file\n",
        "candidates_small.to_csv('drive/MyDrive/candidates_processed.csv', index=False)"
      ],
      "metadata": {
        "id": "yBysrQubo3Av"
      },
      "execution_count": null,
      "outputs": []
    },
    {
      "cell_type": "code",
      "source": [
        "temp = pd.read_csv('drive/MyDrive/candidates_processed.csv')\n",
        "temp.head()"
      ],
      "metadata": {
        "colab": {
          "base_uri": "https://localhost:8080/",
          "height": 206
        },
        "id": "QTud-SnsK63y",
        "outputId": "246d3ef7-c7fd-4c74-ea8b-c007539228ba"
      },
      "execution_count": null,
      "outputs": [
        {
          "output_type": "execute_result",
          "data": {
            "text/plain": [
              "                                           seriesuid      coordX     coordY  \\\n",
              "0  1.3.6.1.4.1.14519.5.2.1.6279.6001.105756658031...  -66.383107  57.143607   \n",
              "1  1.3.6.1.4.1.14519.5.2.1.6279.6001.105756658031... -132.856859  23.813034   \n",
              "2  1.3.6.1.4.1.14519.5.2.1.6279.6001.105756658031...   84.770000  66.170000   \n",
              "3  1.3.6.1.4.1.14519.5.2.1.6279.6001.105756658031...  134.805360  29.696241   \n",
              "4  1.3.6.1.4.1.14519.5.2.1.6279.6001.105756658031...  -87.092676  41.722383   \n",
              "\n",
              "       coordZ  class  index  row  col  \n",
              "0  -60.885862      0    110  331  173  \n",
              "1 -274.350845      0     24  287   86  \n",
              "2 -249.880000      0     34  343  371  \n",
              "3 -268.116009      0     27  295  437  \n",
              "4 -208.831394      0     51  311  146  "
            ],
            "text/html": [
              "\n",
              "  <div id=\"df-0aadea44-83ad-4cbd-a198-e631637cb76b\" class=\"colab-df-container\">\n",
              "    <div>\n",
              "<style scoped>\n",
              "    .dataframe tbody tr th:only-of-type {\n",
              "        vertical-align: middle;\n",
              "    }\n",
              "\n",
              "    .dataframe tbody tr th {\n",
              "        vertical-align: top;\n",
              "    }\n",
              "\n",
              "    .dataframe thead th {\n",
              "        text-align: right;\n",
              "    }\n",
              "</style>\n",
              "<table border=\"1\" class=\"dataframe\">\n",
              "  <thead>\n",
              "    <tr style=\"text-align: right;\">\n",
              "      <th></th>\n",
              "      <th>seriesuid</th>\n",
              "      <th>coordX</th>\n",
              "      <th>coordY</th>\n",
              "      <th>coordZ</th>\n",
              "      <th>class</th>\n",
              "      <th>index</th>\n",
              "      <th>row</th>\n",
              "      <th>col</th>\n",
              "    </tr>\n",
              "  </thead>\n",
              "  <tbody>\n",
              "    <tr>\n",
              "      <th>0</th>\n",
              "      <td>1.3.6.1.4.1.14519.5.2.1.6279.6001.105756658031...</td>\n",
              "      <td>-66.383107</td>\n",
              "      <td>57.143607</td>\n",
              "      <td>-60.885862</td>\n",
              "      <td>0</td>\n",
              "      <td>110</td>\n",
              "      <td>331</td>\n",
              "      <td>173</td>\n",
              "    </tr>\n",
              "    <tr>\n",
              "      <th>1</th>\n",
              "      <td>1.3.6.1.4.1.14519.5.2.1.6279.6001.105756658031...</td>\n",
              "      <td>-132.856859</td>\n",
              "      <td>23.813034</td>\n",
              "      <td>-274.350845</td>\n",
              "      <td>0</td>\n",
              "      <td>24</td>\n",
              "      <td>287</td>\n",
              "      <td>86</td>\n",
              "    </tr>\n",
              "    <tr>\n",
              "      <th>2</th>\n",
              "      <td>1.3.6.1.4.1.14519.5.2.1.6279.6001.105756658031...</td>\n",
              "      <td>84.770000</td>\n",
              "      <td>66.170000</td>\n",
              "      <td>-249.880000</td>\n",
              "      <td>0</td>\n",
              "      <td>34</td>\n",
              "      <td>343</td>\n",
              "      <td>371</td>\n",
              "    </tr>\n",
              "    <tr>\n",
              "      <th>3</th>\n",
              "      <td>1.3.6.1.4.1.14519.5.2.1.6279.6001.105756658031...</td>\n",
              "      <td>134.805360</td>\n",
              "      <td>29.696241</td>\n",
              "      <td>-268.116009</td>\n",
              "      <td>0</td>\n",
              "      <td>27</td>\n",
              "      <td>295</td>\n",
              "      <td>437</td>\n",
              "    </tr>\n",
              "    <tr>\n",
              "      <th>4</th>\n",
              "      <td>1.3.6.1.4.1.14519.5.2.1.6279.6001.105756658031...</td>\n",
              "      <td>-87.092676</td>\n",
              "      <td>41.722383</td>\n",
              "      <td>-208.831394</td>\n",
              "      <td>0</td>\n",
              "      <td>51</td>\n",
              "      <td>311</td>\n",
              "      <td>146</td>\n",
              "    </tr>\n",
              "  </tbody>\n",
              "</table>\n",
              "</div>\n",
              "    <div class=\"colab-df-buttons\">\n",
              "\n",
              "  <div class=\"colab-df-container\">\n",
              "    <button class=\"colab-df-convert\" onclick=\"convertToInteractive('df-0aadea44-83ad-4cbd-a198-e631637cb76b')\"\n",
              "            title=\"Convert this dataframe to an interactive table.\"\n",
              "            style=\"display:none;\">\n",
              "\n",
              "  <svg xmlns=\"http://www.w3.org/2000/svg\" height=\"24px\" viewBox=\"0 -960 960 960\">\n",
              "    <path d=\"M120-120v-720h720v720H120Zm60-500h600v-160H180v160Zm220 220h160v-160H400v160Zm0 220h160v-160H400v160ZM180-400h160v-160H180v160Zm440 0h160v-160H620v160ZM180-180h160v-160H180v160Zm440 0h160v-160H620v160Z\"/>\n",
              "  </svg>\n",
              "    </button>\n",
              "\n",
              "  <style>\n",
              "    .colab-df-container {\n",
              "      display:flex;\n",
              "      gap: 12px;\n",
              "    }\n",
              "\n",
              "    .colab-df-convert {\n",
              "      background-color: #E8F0FE;\n",
              "      border: none;\n",
              "      border-radius: 50%;\n",
              "      cursor: pointer;\n",
              "      display: none;\n",
              "      fill: #1967D2;\n",
              "      height: 32px;\n",
              "      padding: 0 0 0 0;\n",
              "      width: 32px;\n",
              "    }\n",
              "\n",
              "    .colab-df-convert:hover {\n",
              "      background-color: #E2EBFA;\n",
              "      box-shadow: 0px 1px 2px rgba(60, 64, 67, 0.3), 0px 1px 3px 1px rgba(60, 64, 67, 0.15);\n",
              "      fill: #174EA6;\n",
              "    }\n",
              "\n",
              "    .colab-df-buttons div {\n",
              "      margin-bottom: 4px;\n",
              "    }\n",
              "\n",
              "    [theme=dark] .colab-df-convert {\n",
              "      background-color: #3B4455;\n",
              "      fill: #D2E3FC;\n",
              "    }\n",
              "\n",
              "    [theme=dark] .colab-df-convert:hover {\n",
              "      background-color: #434B5C;\n",
              "      box-shadow: 0px 1px 3px 1px rgba(0, 0, 0, 0.15);\n",
              "      filter: drop-shadow(0px 1px 2px rgba(0, 0, 0, 0.3));\n",
              "      fill: #FFFFFF;\n",
              "    }\n",
              "  </style>\n",
              "\n",
              "    <script>\n",
              "      const buttonEl =\n",
              "        document.querySelector('#df-0aadea44-83ad-4cbd-a198-e631637cb76b button.colab-df-convert');\n",
              "      buttonEl.style.display =\n",
              "        google.colab.kernel.accessAllowed ? 'block' : 'none';\n",
              "\n",
              "      async function convertToInteractive(key) {\n",
              "        const element = document.querySelector('#df-0aadea44-83ad-4cbd-a198-e631637cb76b');\n",
              "        const dataTable =\n",
              "          await google.colab.kernel.invokeFunction('convertToInteractive',\n",
              "                                                    [key], {});\n",
              "        if (!dataTable) return;\n",
              "\n",
              "        const docLinkHtml = 'Like what you see? Visit the ' +\n",
              "          '<a target=\"_blank\" href=https://colab.research.google.com/notebooks/data_table.ipynb>data table notebook</a>'\n",
              "          + ' to learn more about interactive tables.';\n",
              "        element.innerHTML = '';\n",
              "        dataTable['output_type'] = 'display_data';\n",
              "        await google.colab.output.renderOutput(dataTable, element);\n",
              "        const docLink = document.createElement('div');\n",
              "        docLink.innerHTML = docLinkHtml;\n",
              "        element.appendChild(docLink);\n",
              "      }\n",
              "    </script>\n",
              "  </div>\n",
              "\n",
              "\n",
              "<div id=\"df-e02c7fe6-872e-47a3-a679-3a7218de6714\">\n",
              "  <button class=\"colab-df-quickchart\" onclick=\"quickchart('df-e02c7fe6-872e-47a3-a679-3a7218de6714')\"\n",
              "            title=\"Suggest charts\"\n",
              "            style=\"display:none;\">\n",
              "\n",
              "<svg xmlns=\"http://www.w3.org/2000/svg\" height=\"24px\"viewBox=\"0 0 24 24\"\n",
              "     width=\"24px\">\n",
              "    <g>\n",
              "        <path d=\"M19 3H5c-1.1 0-2 .9-2 2v14c0 1.1.9 2 2 2h14c1.1 0 2-.9 2-2V5c0-1.1-.9-2-2-2zM9 17H7v-7h2v7zm4 0h-2V7h2v10zm4 0h-2v-4h2v4z\"/>\n",
              "    </g>\n",
              "</svg>\n",
              "  </button>\n",
              "\n",
              "<style>\n",
              "  .colab-df-quickchart {\n",
              "      --bg-color: #E8F0FE;\n",
              "      --fill-color: #1967D2;\n",
              "      --hover-bg-color: #E2EBFA;\n",
              "      --hover-fill-color: #174EA6;\n",
              "      --disabled-fill-color: #AAA;\n",
              "      --disabled-bg-color: #DDD;\n",
              "  }\n",
              "\n",
              "  [theme=dark] .colab-df-quickchart {\n",
              "      --bg-color: #3B4455;\n",
              "      --fill-color: #D2E3FC;\n",
              "      --hover-bg-color: #434B5C;\n",
              "      --hover-fill-color: #FFFFFF;\n",
              "      --disabled-bg-color: #3B4455;\n",
              "      --disabled-fill-color: #666;\n",
              "  }\n",
              "\n",
              "  .colab-df-quickchart {\n",
              "    background-color: var(--bg-color);\n",
              "    border: none;\n",
              "    border-radius: 50%;\n",
              "    cursor: pointer;\n",
              "    display: none;\n",
              "    fill: var(--fill-color);\n",
              "    height: 32px;\n",
              "    padding: 0;\n",
              "    width: 32px;\n",
              "  }\n",
              "\n",
              "  .colab-df-quickchart:hover {\n",
              "    background-color: var(--hover-bg-color);\n",
              "    box-shadow: 0 1px 2px rgba(60, 64, 67, 0.3), 0 1px 3px 1px rgba(60, 64, 67, 0.15);\n",
              "    fill: var(--button-hover-fill-color);\n",
              "  }\n",
              "\n",
              "  .colab-df-quickchart-complete:disabled,\n",
              "  .colab-df-quickchart-complete:disabled:hover {\n",
              "    background-color: var(--disabled-bg-color);\n",
              "    fill: var(--disabled-fill-color);\n",
              "    box-shadow: none;\n",
              "  }\n",
              "\n",
              "  .colab-df-spinner {\n",
              "    border: 2px solid var(--fill-color);\n",
              "    border-color: transparent;\n",
              "    border-bottom-color: var(--fill-color);\n",
              "    animation:\n",
              "      spin 1s steps(1) infinite;\n",
              "  }\n",
              "\n",
              "  @keyframes spin {\n",
              "    0% {\n",
              "      border-color: transparent;\n",
              "      border-bottom-color: var(--fill-color);\n",
              "      border-left-color: var(--fill-color);\n",
              "    }\n",
              "    20% {\n",
              "      border-color: transparent;\n",
              "      border-left-color: var(--fill-color);\n",
              "      border-top-color: var(--fill-color);\n",
              "    }\n",
              "    30% {\n",
              "      border-color: transparent;\n",
              "      border-left-color: var(--fill-color);\n",
              "      border-top-color: var(--fill-color);\n",
              "      border-right-color: var(--fill-color);\n",
              "    }\n",
              "    40% {\n",
              "      border-color: transparent;\n",
              "      border-right-color: var(--fill-color);\n",
              "      border-top-color: var(--fill-color);\n",
              "    }\n",
              "    60% {\n",
              "      border-color: transparent;\n",
              "      border-right-color: var(--fill-color);\n",
              "    }\n",
              "    80% {\n",
              "      border-color: transparent;\n",
              "      border-right-color: var(--fill-color);\n",
              "      border-bottom-color: var(--fill-color);\n",
              "    }\n",
              "    90% {\n",
              "      border-color: transparent;\n",
              "      border-bottom-color: var(--fill-color);\n",
              "    }\n",
              "  }\n",
              "</style>\n",
              "\n",
              "  <script>\n",
              "    async function quickchart(key) {\n",
              "      const quickchartButtonEl =\n",
              "        document.querySelector('#' + key + ' button');\n",
              "      quickchartButtonEl.disabled = true;  // To prevent multiple clicks.\n",
              "      quickchartButtonEl.classList.add('colab-df-spinner');\n",
              "      try {\n",
              "        const charts = await google.colab.kernel.invokeFunction(\n",
              "            'suggestCharts', [key], {});\n",
              "      } catch (error) {\n",
              "        console.error('Error during call to suggestCharts:', error);\n",
              "      }\n",
              "      quickchartButtonEl.classList.remove('colab-df-spinner');\n",
              "      quickchartButtonEl.classList.add('colab-df-quickchart-complete');\n",
              "    }\n",
              "    (() => {\n",
              "      let quickchartButtonEl =\n",
              "        document.querySelector('#df-e02c7fe6-872e-47a3-a679-3a7218de6714 button');\n",
              "      quickchartButtonEl.style.display =\n",
              "        google.colab.kernel.accessAllowed ? 'block' : 'none';\n",
              "    })();\n",
              "  </script>\n",
              "</div>\n",
              "\n",
              "    </div>\n",
              "  </div>\n"
            ],
            "application/vnd.google.colaboratory.intrinsic+json": {
              "type": "dataframe",
              "variable_name": "temp",
              "summary": "{\n  \"name\": \"temp\",\n  \"rows\": 79135,\n  \"fields\": [\n    {\n      \"column\": \"seriesuid\",\n      \"properties\": {\n        \"dtype\": \"category\",\n        \"num_unique_values\": 89,\n        \"samples\": [\n          \"1.3.6.1.4.1.14519.5.2.1.6279.6001.293757615532132808762625441831\",\n          \"1.3.6.1.4.1.14519.5.2.1.6279.6001.311981398931043315779172047718\",\n          \"1.3.6.1.4.1.14519.5.2.1.6279.6001.219909753224298157409438012179\"\n        ],\n        \"semantic_type\": \"\",\n        \"description\": \"\"\n      }\n    },\n    {\n      \"column\": \"coordX\",\n      \"properties\": {\n        \"dtype\": \"number\",\n        \"std\": 70.87417615263108,\n        \"min\": -187.77,\n        \"max\": 176.0,\n        \"num_unique_values\": 54080,\n        \"samples\": [\n          42.42753227,\n          44.75862465,\n          63.05\n        ],\n        \"semantic_type\": \"\",\n        \"description\": \"\"\n      }\n    },\n    {\n      \"column\": \"coordY\",\n      \"properties\": {\n        \"dtype\": \"number\",\n        \"std\": 98.64920325348609,\n        \"min\": -298.07,\n        \"max\": 285.4349712,\n        \"num_unique_values\": 57576,\n        \"samples\": [\n          84.28914758,\n          25.04563448,\n          50.845\n        ],\n        \"semantic_type\": \"\",\n        \"description\": \"\"\n      }\n    },\n    {\n      \"column\": \"coordZ\",\n      \"properties\": {\n        \"dtype\": \"number\",\n        \"std\": 351.2875205588508,\n        \"min\": -895.22,\n        \"max\": 1833.82,\n        \"num_unique_values\": 58959,\n        \"samples\": [\n          -130.1697223,\n          -53.88834973,\n          -529.35\n        ],\n        \"semantic_type\": \"\",\n        \"description\": \"\"\n      }\n    },\n    {\n      \"column\": \"class\",\n      \"properties\": {\n        \"dtype\": \"number\",\n        \"std\": 0,\n        \"min\": 0,\n        \"max\": 1,\n        \"num_unique_values\": 2,\n        \"samples\": [\n          1,\n          0\n        ],\n        \"semantic_type\": \"\",\n        \"description\": \"\"\n      }\n    },\n    {\n      \"column\": \"index\",\n      \"properties\": {\n        \"dtype\": \"number\",\n        \"std\": 92,\n        \"min\": 1,\n        \"max\": 685,\n        \"num_unique_values\": 639,\n        \"samples\": [\n          101,\n          217\n        ],\n        \"semantic_type\": \"\",\n        \"description\": \"\"\n      }\n    },\n    {\n      \"column\": \"row\",\n      \"properties\": {\n        \"dtype\": \"number\",\n        \"std\": 63,\n        \"min\": 9,\n        \"max\": 435,\n        \"num_unique_values\": 364,\n        \"samples\": [\n          146,\n          340\n        ],\n        \"semantic_type\": \"\",\n        \"description\": \"\"\n      }\n    },\n    {\n      \"column\": \"col\",\n      \"properties\": {\n        \"dtype\": \"number\",\n        \"std\": 101,\n        \"min\": 13,\n        \"max\": 491,\n        \"num_unique_values\": 468,\n        \"samples\": [\n          398,\n          463\n        ],\n        \"semantic_type\": \"\",\n        \"description\": \"\"\n      }\n    }\n  ]\n}"
            }
          },
          "metadata": {},
          "execution_count": 28
        }
      ]
    },
    {
      "cell_type": "markdown",
      "source": [
        "## 3. Create Data Tensors\n",
        "\n",
        "The neural network model we will build with PyTorch requires the data to be presented in the form of a torch tensor. The input tensor should be 4-dimensional, with the dimensions representing the nodule index, channel, row, and column, respectively."
      ],
      "metadata": {
        "id": "r0kBg0Yio6tO"
      }
    },
    {
      "cell_type": "markdown",
      "source": [
        "3.1 Write a double for-loop to extract the CT scan data for **the first 5,000*** nodules:\n",
        "- The outer for loop goes through all the distince seriesuid's.\n",
        "- For each iteration of the outer loop, load the corresponding CT-scan file and create a torch tensor to represent the scan.\n",
        "- Create an inner-loop that goes through the nodules corresponding to the seriesuid:\n",
        "    - Load the (index, row, col) tuple of this nodule from the data frame.\n",
        "    - Extract a 32x48x48 chunk centered at the (index, row, col). If the nodule is near the edge of the image and there is not enough indices to extract, please pad with zeros to keep the overall shape unchanged.\n",
        "    - Use a 4D tensor to contain all the 32x48x48 chunks. The first dimension of the 4D tensor is the index of nodule.\n",
        "\n",
        "You may modify the above procedure as you like. Make sure that you are able to obtain a 4D tensor that contains all nodule data. **Display the shape of the 4D tensor.** The shape of the tensor should be (5000, 32, 48, 48).\n",
        "\n",
        "**Remark** Due to the memory limit, it is impossible to load all nodule images into simultanously. Therefore, the number of nodules required in this section is reduced to 5,000. Feel free to adjust this number to prevent the out-of-memory error."
      ],
      "metadata": {
        "id": "S5n8827EBRKc"
      }
    },
    {
      "cell_type": "code",
      "source": [
        "import pandas as pd\n",
        "data = pd.read_csv(\"drive/MyDrive/candidates_processed.csv\")"
      ],
      "metadata": {
        "id": "YnVifT1xdRVg"
      },
      "execution_count": null,
      "outputs": []
    },
    {
      "cell_type": "code",
      "source": [
        "import torch\n",
        "import numpy as np\n",
        "import SimpleITK as sitk\n",
        "\n",
        "# Number of nodules to load\n",
        "num_nodules = 5000\n",
        "\n",
        "# Initialize 4D tensor and labels\n",
        "chunks = torch.zeros((num_nodules, 32, 48, 48))\n",
        "labels = torch.zeros(num_nodules)\n",
        "\n",
        "# Get unique CT scan IDs\n",
        "unique_seriesuid = data['seriesuid'].unique()\n",
        "unique_ids = unique_seriesuid.tolist()\n",
        "print(\"Number of unique scans:\", len(unique_ids))\n",
        "\n",
        "count = 0\n",
        "\n",
        "for id in unique_ids:\n",
        "    mhd_path = \"subset0/\" + id + \".mhd\"\n",
        "\n",
        "    # Load and clip CT scan\n",
        "    ct_mhd = sitk.ReadImage(mhd_path)\n",
        "    ct_a = np.array(sitk.GetArrayFromImage(ct_mhd), dtype=np.float32)\n",
        "    ct_a = ct_a.clip(-1000, 1000)\n",
        "\n",
        "    # Extract nodules from this scan\n",
        "    nodules = data[data['seriesuid'] == id]\n",
        "    print(f\"Scan ID: {id}, nodules: {nodules.shape[0]}\")\n",
        "\n",
        "    for nodule_index in nodules.index:\n",
        "        if count == num_nodules:\n",
        "            break\n",
        "\n",
        "        index, row, col = nodules.loc[nodule_index, [\"index\", \"row\", \"col\"]].astype(int)\n",
        "\n",
        "        # Pad if near edges\n",
        "        ct_chunk = torch.zeros([32, 48, 48])\n",
        "\n",
        "        z_start, z_end = max(index - 16, 0), min(index + 16, ct_a.shape[0])\n",
        "        y_start, y_end = max(row - 24, 0), min(row + 24, ct_a.shape[1])\n",
        "        x_start, x_end = max(col - 24, 0), min(col + 24, ct_a.shape[2])\n",
        "\n",
        "        chunk = ct_a[z_start:z_end, y_start:y_end, x_start:x_end]\n",
        "        chunk = torch.tensor(chunk)\n",
        "\n",
        "        # Determine target shape to avoid overflow\n",
        "        dz, dy, dx = chunk.shape\n",
        "        ct_chunk[:dz, :dy, :dx] = chunk\n",
        "\n",
        "        chunks[count] = ct_chunk\n",
        "        labels[count] = nodules.loc[nodule_index, 'class']\n",
        "\n",
        "        count += 1\n",
        "\n",
        "    if count == num_nodules:\n",
        "        break\n",
        "\n",
        "print(\"Final tensor shape:\", chunks.shape)\n",
        "print(\"Label shape:\", labels.shape)\n",
        "\n"
      ],
      "metadata": {
        "id": "Z2nv59_0EMHa",
        "colab": {
          "base_uri": "https://localhost:8080/"
        },
        "outputId": "78297293-d6f4-4d2f-c805-de76336da31f"
      },
      "execution_count": null,
      "outputs": [
        {
          "output_type": "stream",
          "name": "stdout",
          "text": [
            "Number of unique scans: 89\n",
            "Scan ID: 1.3.6.1.4.1.14519.5.2.1.6279.6001.105756658031515062000744821260, nodules: 707\n",
            "Scan ID: 1.3.6.1.4.1.14519.5.2.1.6279.6001.108197895896446896160048741492, nodules: 1291\n",
            "Scan ID: 1.3.6.1.4.1.14519.5.2.1.6279.6001.109002525524522225658609808059, nodules: 804\n",
            "Scan ID: 1.3.6.1.4.1.14519.5.2.1.6279.6001.111172165674661221381920536987, nodules: 730\n",
            "Scan ID: 1.3.6.1.4.1.14519.5.2.1.6279.6001.122763913896761494371822656720, nodules: 821\n",
            "Scan ID: 1.3.6.1.4.1.14519.5.2.1.6279.6001.124154461048929153767743874565, nodules: 1333\n",
            "Final tensor shape: torch.Size([5000, 32, 48, 48])\n",
            "Label shape: torch.Size([5000])\n"
          ]
        }
      ]
    },
    {
      "cell_type": "markdown",
      "source": [
        "3.2 Create a 1D tensor to contain all the class information."
      ],
      "metadata": {
        "id": "bgcIKmb3vpXR"
      }
    },
    {
      "cell_type": "code",
      "source": [
        "print(\"Label tensor shape:\", labels.shape)\n",
        "print(\"Sample labels:\", labels[:10])"
      ],
      "metadata": {
        "id": "MKjfdls5vty3",
        "colab": {
          "base_uri": "https://localhost:8080/"
        },
        "outputId": "adf78a9e-df19-481b-ca4f-b3b8b39b1b65"
      },
      "execution_count": null,
      "outputs": [
        {
          "output_type": "stream",
          "name": "stdout",
          "text": [
            "Label tensor shape: torch.Size([5000])\n",
            "Sample labels: tensor([0., 0., 0., 0., 0., 0., 0., 0., 0., 0.])\n"
          ]
        }
      ]
    },
    {
      "cell_type": "markdown",
      "source": [
        "3.3 Split the 4D tensor into a training set and a test set. Display their shapes."
      ],
      "metadata": {
        "id": "ndbz7_LjEM88"
      }
    },
    {
      "cell_type": "code",
      "source": [
        "from sklearn.model_selection import train_test_split\n",
        "chunks_train, chunks_test, labels_train, labels_test = train_test_split(chunks, labels, test_size=0.2)\n",
        "print(chunks_train.shape, labels_train.shape)\n",
        "print(chunks_test.shape, labels_test.shape)"
      ],
      "metadata": {
        "id": "G6JBKlQ5FAys",
        "colab": {
          "base_uri": "https://localhost:8080/"
        },
        "outputId": "a498a365-32de-48c7-a0aa-f5a0f4e20415"
      },
      "execution_count": null,
      "outputs": [
        {
          "output_type": "stream",
          "name": "stdout",
          "text": [
            "torch.Size([4000, 32, 48, 48]) torch.Size([4000])\n",
            "torch.Size([1000, 32, 48, 48]) torch.Size([1000])\n"
          ]
        }
      ]
    },
    {
      "cell_type": "markdown",
      "source": [
        "## 4. Model Design and Implementation"
      ],
      "metadata": {
        "id": "24KcclJsENbd"
      }
    },
    {
      "cell_type": "markdown",
      "source": [
        "4.1 Design a neural network model with only a flatten layer and two dense layers for classifying lung nodules. You may experiment with different sizes for the hidden layers to improve the training results."
      ],
      "metadata": {
        "id": "Z7KXp4J0EQvs"
      }
    },
    {
      "cell_type": "code",
      "source": [
        "number_input_values = 32 * 48 * 48\n",
        "print(number_input_values)"
      ],
      "metadata": {
        "colab": {
          "base_uri": "https://localhost:8080/"
        },
        "id": "lxBjRI-YJDGY",
        "outputId": "6d474cc1-2523-4ad8-baf0-b855a9bf84b5"
      },
      "execution_count": null,
      "outputs": [
        {
          "output_type": "stream",
          "name": "stdout",
          "text": [
            "73728\n"
          ]
        }
      ]
    },
    {
      "cell_type": "code",
      "source": [
        "import torch.nn as nn\n",
        "import torch.optim as optim\n",
        "model = nn.Sequential(\n",
        "    nn.Flatten(),\n",
        "    nn.Linear(number_input_values, 128),\n",
        "    nn.ReLU(),\n",
        "    nn.Linear(128, 64),\n",
        "    nn.ReLU(),\n",
        "    nn.Linear(64, 2),\n",
        "    nn.LogSoftmax(dim=1)\n",
        ")"
      ],
      "metadata": {
        "id": "_fVgmuNPJFcC"
      },
      "execution_count": null,
      "outputs": []
    },
    {
      "cell_type": "code",
      "source": [
        "learning_rate = 1e-6"
      ],
      "metadata": {
        "id": "4NYbDHnkJHK-"
      },
      "execution_count": null,
      "outputs": []
    },
    {
      "cell_type": "markdown",
      "source": [
        "4.2 Create an object to represent the loss function."
      ],
      "metadata": {
        "id": "VcDL-bz0Em61"
      }
    },
    {
      "cell_type": "code",
      "source": [
        "loss_fn = nn.NLLLoss()"
      ],
      "metadata": {
        "id": "hQg_cbq2Woue"
      },
      "execution_count": null,
      "outputs": []
    },
    {
      "cell_type": "markdown",
      "source": [
        "4.3 Create an object to represent the optimizer."
      ],
      "metadata": {
        "id": "2zTdz_qyEt4T"
      }
    },
    {
      "cell_type": "code",
      "source": [
        "optimizer = optim.SGD(model.parameters(), lr=learning_rate)"
      ],
      "metadata": {
        "id": "SlcOD-y7WsDM"
      },
      "execution_count": null,
      "outputs": []
    },
    {
      "cell_type": "markdown",
      "source": [
        "4.4 Create a function to represent the training loop.\n"
      ],
      "metadata": {
        "id": "3wwyhtrFEwe_"
      }
    },
    {
      "cell_type": "code",
      "source": [
        "# Turn the dataset into a dataloader\n",
        "dataset = torch.utils.data.TensorDataset(chunks_train, labels_train)\n",
        "train_loader = torch.utils.data.DataLoader(dataset, batch_size=64,\n",
        "                                           shuffle=True)"
      ],
      "metadata": {
        "id": "FXuJ7YJUJLIu"
      },
      "execution_count": null,
      "outputs": []
    },
    {
      "cell_type": "code",
      "source": [
        "def train_model(model,train_loader,loss_fn,optimizer,n_epochs):\n",
        "  for epoch in range(n_epochs):\n",
        "    for img, label in train_loader:\n",
        "      out = model(img)\n",
        "      loss = loss_fn(out, label.long()) # label.long() represents the 0/1 labels as long integers\n",
        "\n",
        "      optimizer.zero_grad()\n",
        "      loss.backward()\n",
        "      optimizer.step()\n",
        "\n",
        "    print(\"Epoch: %d, Loss: %f\" % (epoch, float(loss)))"
      ],
      "metadata": {
        "collapsed": true,
        "id": "IEnEAZ_WJNLP"
      },
      "execution_count": null,
      "outputs": []
    },
    {
      "cell_type": "markdown",
      "source": [
        "4.5 Execute the training loop. Display the change of training loss during the training process. Choose a reasonable value for the number of training epochs based on your observations."
      ],
      "metadata": {
        "id": "LQeI4It3Ez-Z"
      }
    },
    {
      "cell_type": "code",
      "source": [
        "n_epochs = 50\n",
        "\n",
        "train_model(model, train_loader, loss_fn, optimizer, n_epochs)"
      ],
      "metadata": {
        "colab": {
          "base_uri": "https://localhost:8080/"
        },
        "id": "M0FQlrn7XWZ1",
        "outputId": "b316b25e-7da6-430f-9089-464ab4e0a339"
      },
      "execution_count": null,
      "outputs": [
        {
          "output_type": "stream",
          "name": "stdout",
          "text": [
            "Epoch: 0, Loss: 0.000000\n",
            "Epoch: 1, Loss: 0.000000\n",
            "Epoch: 2, Loss: 0.000000\n",
            "Epoch: 3, Loss: 0.000000\n",
            "Epoch: 4, Loss: 0.000000\n",
            "Epoch: 5, Loss: 0.000000\n",
            "Epoch: 6, Loss: 0.000000\n",
            "Epoch: 7, Loss: 0.000107\n",
            "Epoch: 8, Loss: 0.000021\n",
            "Epoch: 9, Loss: 0.003168\n",
            "Epoch: 10, Loss: 0.000000\n",
            "Epoch: 11, Loss: 0.798131\n",
            "Epoch: 12, Loss: 0.000000\n",
            "Epoch: 13, Loss: 0.000000\n",
            "Epoch: 14, Loss: 0.000000\n",
            "Epoch: 15, Loss: 0.000000\n",
            "Epoch: 16, Loss: 0.000000\n",
            "Epoch: 17, Loss: 0.000011\n",
            "Epoch: 18, Loss: 0.000000\n",
            "Epoch: 19, Loss: 0.000000\n",
            "Epoch: 20, Loss: 0.000000\n",
            "Epoch: 21, Loss: 0.000000\n",
            "Epoch: 22, Loss: 0.000000\n",
            "Epoch: 23, Loss: 0.000000\n",
            "Epoch: 24, Loss: 0.000000\n",
            "Epoch: 25, Loss: 0.000000\n",
            "Epoch: 26, Loss: 0.000000\n",
            "Epoch: 27, Loss: 0.000000\n",
            "Epoch: 28, Loss: 0.000000\n",
            "Epoch: 29, Loss: 0.000000\n",
            "Epoch: 30, Loss: 0.000000\n",
            "Epoch: 31, Loss: 0.000000\n",
            "Epoch: 32, Loss: 0.000000\n",
            "Epoch: 33, Loss: 0.000000\n",
            "Epoch: 34, Loss: 0.000000\n",
            "Epoch: 35, Loss: 0.000000\n",
            "Epoch: 36, Loss: 0.000000\n",
            "Epoch: 37, Loss: 0.000000\n",
            "Epoch: 38, Loss: 0.000000\n",
            "Epoch: 39, Loss: 0.000000\n",
            "Epoch: 40, Loss: 0.000274\n",
            "Epoch: 41, Loss: 0.000000\n",
            "Epoch: 42, Loss: 0.000000\n",
            "Epoch: 43, Loss: 0.000000\n",
            "Epoch: 44, Loss: 0.000016\n",
            "Epoch: 45, Loss: 0.000016\n",
            "Epoch: 46, Loss: 0.000000\n",
            "Epoch: 47, Loss: 0.000000\n",
            "Epoch: 48, Loss: 0.000156\n",
            "Epoch: 49, Loss: 0.000000\n"
          ]
        }
      ]
    },
    {
      "cell_type": "markdown",
      "source": [
        "## 5. Model Evaluation and Analysis"
      ],
      "metadata": {
        "id": "SFZmUtk4FCnP"
      }
    },
    {
      "cell_type": "markdown",
      "source": [
        "5.1 Obtain the model's prediction on the test set."
      ],
      "metadata": {
        "id": "fdMogOg0FF7F"
      }
    },
    {
      "cell_type": "code",
      "source": [
        "# Create a data loader for the test set.\n",
        "dataset = torch.utils.data.TensorDataset(chunks_test, labels_test)\n",
        "train_loader = torch.utils.data.DataLoader(dataset, batch_size=64,\n",
        "                                           shuffle=True)"
      ],
      "metadata": {
        "id": "LxFOCkdvFFtm"
      },
      "execution_count": null,
      "outputs": []
    },
    {
      "cell_type": "code",
      "source": [
        "# Apply the model to the test set.\n",
        "probabilities = model(chunks_test)\n",
        "probabilities"
      ],
      "metadata": {
        "colab": {
          "base_uri": "https://localhost:8080/"
        },
        "id": "7wuyf071cRBt",
        "outputId": "ec20aa06-5bf0-4574-c8c8-4b2472938aaa"
      },
      "execution_count": null,
      "outputs": [
        {
          "output_type": "execute_result",
          "data": {
            "text/plain": [
              "tensor([[   0.0000, -261.6715],\n",
              "        [   0.0000, -317.3645],\n",
              "        [   0.0000, -109.4861],\n",
              "        ...,\n",
              "        [   0.0000, -393.2058],\n",
              "        [   0.0000, -213.1809],\n",
              "        [   0.0000, -211.7251]], grad_fn=<LogSoftmaxBackward0>)"
            ]
          },
          "metadata": {},
          "execution_count": 42
        }
      ]
    },
    {
      "cell_type": "code",
      "source": [
        "# Turn the probabilites into class predictions\n",
        "_, predictions = torch.max(probabilities, dim=1)"
      ],
      "metadata": {
        "id": "i_wqOX0GbkwC"
      },
      "execution_count": null,
      "outputs": []
    },
    {
      "cell_type": "code",
      "source": [
        "# Accuracy\n",
        "from sklearn.metrics import accuracy_score\n",
        "acc = accuracy_score(labels_test, predictions)\n",
        "print(\"Accuracy:\", acc)"
      ],
      "metadata": {
        "colab": {
          "base_uri": "https://localhost:8080/"
        },
        "id": "DKuHJr7Jd6c8",
        "outputId": "8975d688-6356-47cc-d8e8-0af6efaf9619"
      },
      "execution_count": null,
      "outputs": [
        {
          "output_type": "stream",
          "name": "stdout",
          "text": [
            "Accuracy: 0.997\n"
          ]
        }
      ]
    },
    {
      "cell_type": "code",
      "source": [
        "# Turn the probabilites into class predictions\n",
        "_, predictions = torch.max(probabilities, dim=1)\n",
        "predictions[:25]"
      ],
      "metadata": {
        "colab": {
          "base_uri": "https://localhost:8080/"
        },
        "id": "qSotyDYXcals",
        "outputId": "38d40d1c-4a76-4f84-a009-7ff44e1d94cf"
      },
      "execution_count": null,
      "outputs": [
        {
          "output_type": "execute_result",
          "data": {
            "text/plain": [
              "tensor([0, 0, 0, 0, 0, 0, 0, 0, 0, 0, 0, 0, 0, 0, 0, 0, 0, 0, 0, 0, 0, 0, 0, 0,\n",
              "        0])"
            ]
          },
          "metadata": {},
          "execution_count": 45
        }
      ]
    },
    {
      "cell_type": "code",
      "source": [
        "# Calculate the confusion matrix\n",
        "from sklearn.metrics import confusion_matrix\n",
        "confusion_matrix = confusion_matrix(labels_test, predictions)\n",
        "print(confusion_matrix)"
      ],
      "metadata": {
        "colab": {
          "base_uri": "https://localhost:8080/"
        },
        "id": "WlmMCbDOcsTP",
        "outputId": "a840d73f-76b2-4239-de44-b9ee41181848"
      },
      "execution_count": null,
      "outputs": [
        {
          "output_type": "stream",
          "name": "stdout",
          "text": [
            "[[997   0]\n",
            " [  3   0]]\n"
          ]
        }
      ]
    },
    {
      "cell_type": "markdown",
      "source": [
        "**Confusion Matrix**\n",
        "\n",
        "|                |Predicted Class:|     0                  |              1    |\n",
        "|----------------|----------------|------------------------|-------------------|\n",
        "|True Class:     |\n",
        "|     0          |                |  995 (True Negatives)  | 4 (False Positive)|\n",
        "|     1          |                |  1 (False Negative)    | 0 (True Positives)|"
      ],
      "metadata": {
        "id": "OqY0Fh7obxeA"
      }
    },
    {
      "cell_type": "markdown",
      "source": [
        "5.2 Calculate the report the following metrics:\n",
        "- accuracy\n",
        "- precision\n",
        "- recall"
      ],
      "metadata": {
        "id": "yRRTayzmFLTy"
      }
    },
    {
      "cell_type": "code",
      "source": [
        "true_neg = confusion_matrix[0][0]\n",
        "false_neg = confusion_matrix[1][0]\n",
        "false_pos = confusion_matrix[0][1]\n",
        "true_pos = confusion_matrix[1][1]"
      ],
      "metadata": {
        "id": "1-Zu2j00ceuS"
      },
      "execution_count": null,
      "outputs": []
    },
    {
      "cell_type": "code",
      "source": [
        "accuracy = float((true_pos + true_neg)/1000)\n",
        "print(\"Accuracy:\", accuracy)\n"
      ],
      "metadata": {
        "colab": {
          "base_uri": "https://localhost:8080/"
        },
        "id": "rXnAqs0Hdouj",
        "outputId": "e26de286-6939-4ee9-807f-35a5930a310c"
      },
      "execution_count": null,
      "outputs": [
        {
          "output_type": "stream",
          "name": "stdout",
          "text": [
            "Accuracy: 0.997\n"
          ]
        }
      ]
    },
    {
      "cell_type": "code",
      "source": [
        "precision = float(true_pos / (true_pos + false_pos))\n",
        "print(\"Precision:\", precision)\n"
      ],
      "metadata": {
        "colab": {
          "base_uri": "https://localhost:8080/"
        },
        "id": "5eU7udMldxPX",
        "outputId": "a85e7271-7fa4-4479-a4c7-1d835fde0e92"
      },
      "execution_count": null,
      "outputs": [
        {
          "output_type": "stream",
          "name": "stdout",
          "text": [
            "Precision: nan\n"
          ]
        },
        {
          "output_type": "stream",
          "name": "stderr",
          "text": [
            "<ipython-input-81-65915a312bc6>:1: RuntimeWarning: invalid value encountered in scalar divide\n",
            "  precision = float(true_pos / (true_pos + false_pos))\n"
          ]
        }
      ]
    },
    {
      "cell_type": "code",
      "source": [
        "# Recall: the number of true positives divided by the number of positive instances.\n",
        "recall = float(true_pos / (true_pos + false_neg))\n",
        "print(\"Recall:\", recall)"
      ],
      "metadata": {
        "colab": {
          "base_uri": "https://localhost:8080/"
        },
        "id": "y4XM-JAgeINL",
        "outputId": "afd7332c-fb2e-466a-afb6-43e342ff733b"
      },
      "execution_count": null,
      "outputs": [
        {
          "output_type": "stream",
          "name": "stdout",
          "text": [
            "Recall: 0.0\n"
          ]
        }
      ]
    },
    {
      "cell_type": "markdown",
      "source": [
        "5.3: Discuss the model's performance."
      ],
      "metadata": {
        "id": "iEJDyFKpFScI"
      }
    },
    {
      "cell_type": "markdown",
      "source": [
        "This indicates that the model is biased toward predicting class 0 (the majority class) and completely ignores class 1 (the minority/positive class), likely because it’s underrepresented in the training data."
      ],
      "metadata": {
        "id": "ZgxTLzl6M9jP"
      }
    },
    {
      "cell_type": "markdown",
      "source": [
        "## 6. Data Augmentation and Retraining\n",
        "\n",
        "To enhance the model's performance, it is essential to increase the number of malignant instances. Apply random shifting and rotation to generate new training instances, ensuring an equal number of instances in each class within the training set."
      ],
      "metadata": {
        "id": "SZfRj3rpqk1D"
      }
    },
    {
      "cell_type": "markdown",
      "source": [
        "6.1 Augment the number of malignent instances in the training set."
      ],
      "metadata": {
        "id": "fZTGy-K5rf85"
      }
    },
    {
      "cell_type": "code",
      "source": [
        "# Create a new dataset with equal numbers of positives and negatives.\n",
        "num_negatives = 2500\n",
        "\n",
        "negative_chunks = torch.zeros([num_negatives, 32, 48, 48])\n",
        "negative_labels = torch.zeros([num_negatives])\n",
        "\n",
        "# Write Your Code Here\n",
        "\n",
        "all_files = glob.glob('subset0/*.mhd')\n",
        "\n",
        "count = 0\n",
        "\n",
        "for file in all_files:\n",
        "\n",
        "    # Load the file as an array\n",
        "    ct_mhd = sitk.ReadImage(file)\n",
        "    ct_a = np.array(sitk.GetArrayFromImage(ct_mhd), dtype=np.float32)\n",
        "    ct_a = ct_a.clip(-1000, 1000, ct_a)\n",
        "\n",
        "    # Extract the ID from the file name.\n",
        "    start_index = file.find('1.')\n",
        "    end_index = file.find('.mhd')\n",
        "    id = file[start_index:end_index]\n",
        "\n",
        "    # for each CT scan load negative nodules from it.\n",
        "    negative_nodules = data[(data['seriesuid'].str.contains(id)) & (data['class'] == 0)]\n",
        "\n",
        "    # Loop through these nodules and create a subarray for each one.\n",
        "    # We no longer need to reload the CT scan file.\n",
        "    for nodule_index in negative_nodules.index:\n",
        "        # Extract the indices for the center\n",
        "        index, row, col = data.loc[nodule_index, [\"index\", \"row\", \"col\"]]\n",
        "\n",
        "        # Build a 32x48x48 tensor to represent the nodule.\n",
        "        # We need to add 0s if the nodule is too close to the boundary\n",
        "        ct_chunk = torch.zeros([32, 48, 48])\n",
        "        chunk = ct_a[(index-16):(index+16), (row-24):(row+24), (col-24):(col+24)]\n",
        "        chunk_indices, chunk_rows, chunk_cols = chunk.shape\n",
        "        ct_chunk[:chunk_indices, :chunk_rows, :chunk_cols] = torch.tensor(chunk)\n",
        "\n",
        "        # Add this 3D tensor to the 4D tensor.\n",
        "        negative_chunks[count, :, :, :] = ct_chunk\n",
        "\n",
        "        # Add the corresponding label to the label tensor\n",
        "        negative_labels[count] = 0\n",
        "\n",
        "        count += 1\n",
        "        print(count)\n",
        "        if count == num_negatives - 1:\n",
        "            break # break out of the inner loop\n",
        "    if count == num_negatives - 1:\n",
        "        break # break out of the outer loop\n",
        "\n"
      ],
      "metadata": {
        "id": "RK3-cio9rlo8"
      },
      "execution_count": null,
      "outputs": []
    },
    {
      "cell_type": "code",
      "source": [
        "from torchvision.transforms.v2 import RandomAffine"
      ],
      "metadata": {
        "id": "X9VqYVWkcvel"
      },
      "execution_count": null,
      "outputs": []
    },
    {
      "cell_type": "code",
      "source": [
        "num_positives = 100\n",
        "num_copies = 25\n",
        "\n",
        "positive_chunks = torch.zeros([num_positives * num_copies, 32, 48, 48])\n",
        "positive_labels = torch.zeros([num_positives * num_copies])\n",
        "\n",
        "# Write Your Code Here\n",
        "shift_fn = RandomAffine(degrees=45, translate=(0.1, 0.1), scale=(0.8, 1.2), shear=10)\n",
        "\n",
        "count = 0\n",
        "\n",
        "for file in all_files:\n",
        "\n",
        "    # Load the file as an array\n",
        "    ct_mhd = sitk.ReadImage(file)\n",
        "    ct_a = np.array(sitk.GetArrayFromImage(ct_mhd), dtype=np.float32)\n",
        "    ct_a = ct_a.clip(-1000, 1000, ct_a)\n",
        "\n",
        "    # Extract the ID from the file name.\n",
        "    start_index = file.find('1.')\n",
        "    end_index = file.find('.mhd')\n",
        "    id = file[start_index:end_index]\n",
        "\n",
        "    # for each CT scan load negative nodules from it.\n",
        "    positive_nodules = data[(data['seriesuid'].str.contains(id)) & (data['class'] == 1)]\n",
        "\n",
        "    # Loop through these nodules and create a subarray for each one.\n",
        "    # We no longer need to reload the CT scan file.\n",
        "    for nodule_index in positive_nodules.index:\n",
        "        # Extract the indices for the center\n",
        "        index, row, col = data.loc[nodule_index, [\"index\", \"row\", \"col\"]]\n",
        "\n",
        "        # Build a 32x48x48 tensor to represent the nodule.\n",
        "        # We need to add 0s if the nodule is too close to the boundary\n",
        "        ct_chunk = torch.zeros([32, 48, 48])\n",
        "        chunk = ct_a[(index-16):(index+16), (row-24):(row+24), (col-24):(col+24)]\n",
        "        chunk_indices, chunk_rows, chunk_cols = chunk.shape\n",
        "        ct_chunk[:chunk_indices, :chunk_rows, :chunk_cols] = torch.tensor(chunk)\n",
        "\n",
        "        # Add this 3D tensor to the 4D tensor.\n",
        "        positive_chunks[count, :, :, :] = ct_chunk\n",
        "\n",
        "        # Add the corresponding label to the label tensor\n",
        "        positive_labels[count] = 1\n",
        "\n",
        "        count += 1\n",
        "        print(count)\n",
        "\n",
        "        # Augmentation: Add 24 copies of the nodule after random affine modifications\n",
        "        for j in range(1, 25):\n",
        "            shifted_chunk = shift_fn(ct_chunk)\n",
        "            positive_chunks[num_positives * j + count, :, :, :] = shifted_chunk\n",
        "            positive_labels[num_positives * j + count] = 1\n",
        "\n",
        "        if count == num_positives - 1:\n",
        "            break # break out of the inner loop\n",
        "    if count == num_positives - 1:\n",
        "        break # break out of the outer loop\n"
      ],
      "metadata": {
        "id": "VyjndgzQcnvT"
      },
      "execution_count": null,
      "outputs": []
    },
    {
      "cell_type": "code",
      "source": [
        "# Combine the two sets of instances\n",
        "chunks = torch.cat([negative_chunks, positive_chunks], dim=0)\n",
        "labels = torch.hstack([negative_labels, positive_labels])\n",
        "print(chunks.shape, labels.shape)"
      ],
      "metadata": {
        "colab": {
          "base_uri": "https://localhost:8080/"
        },
        "id": "NhHYyi9ZdHel",
        "outputId": "9f86a1cb-a3fc-43f8-c9b0-0893718d8fe7"
      },
      "execution_count": null,
      "outputs": [
        {
          "output_type": "stream",
          "name": "stdout",
          "text": [
            "torch.Size([5000, 32, 48, 48]) torch.Size([5000])\n"
          ]
        }
      ]
    },
    {
      "cell_type": "markdown",
      "source": [
        "6.2 Retrain the neural network model on the new training set."
      ],
      "metadata": {
        "id": "UxsuW3iLrmFC"
      }
    },
    {
      "cell_type": "code",
      "source": [
        "chunks_train, chunks_test, labels_train, labels_test = train_test_split(chunks, labels, test_size=0.2)\n",
        "print(chunks_train.shape, labels_train.shape)\n",
        "print(chunks_test.shape, labels_test.shape)\n",
        "\n",
        "# Turn the dataset into a dataloader\n",
        "dataset = torch.utils.data.TensorDataset(chunks_train, labels_train)\n",
        "train_loader = torch.utils.data.DataLoader(dataset, batch_size=64,\n",
        "                                           shuffle=True)\n"
      ],
      "metadata": {
        "id": "PhwG0PcersGy",
        "colab": {
          "base_uri": "https://localhost:8080/"
        },
        "outputId": "248314bb-688f-4cef-ecb5-8465052520a4"
      },
      "execution_count": null,
      "outputs": [
        {
          "output_type": "stream",
          "name": "stdout",
          "text": [
            "torch.Size([4000, 32, 48, 48]) torch.Size([4000])\n",
            "torch.Size([1000, 32, 48, 48]) torch.Size([1000])\n"
          ]
        }
      ]
    },
    {
      "cell_type": "code",
      "source": [
        "model = nn.Sequential(\n",
        "    nn.Flatten(),\n",
        "    nn.Linear(number_input_values, 128),\n",
        "    nn.ReLU(),\n",
        "    nn.Linear(128, 64),\n",
        "    nn.ReLU(),\n",
        "    nn.Linear(64, 2),\n",
        "    nn.LogSoftmax(dim=1)\n",
        ")"
      ],
      "metadata": {
        "id": "P1phdDi6dKzC"
      },
      "execution_count": null,
      "outputs": []
    },
    {
      "cell_type": "code",
      "source": [
        "learning_rate = 1e-6\n",
        "\n",
        "optimizer = optim.SGD(model.parameters(), lr=learning_rate)\n",
        "\n",
        "loss_fn = nn.NLLLoss()"
      ],
      "metadata": {
        "id": "F52CMp4sd9Cf"
      },
      "execution_count": null,
      "outputs": []
    },
    {
      "cell_type": "code",
      "source": [
        "n_epochs = 50\n",
        "\n",
        "train_model(model, train_loader, loss_fn, optimizer, n_epochs)"
      ],
      "metadata": {
        "colab": {
          "base_uri": "https://localhost:8080/"
        },
        "id": "w3Bdc2_aeqiG",
        "outputId": "2114539a-fb90-4ff3-c63a-4bd135c1f33f"
      },
      "execution_count": null,
      "outputs": [
        {
          "output_type": "stream",
          "name": "stdout",
          "text": [
            "Epoch: 0, Loss: 1.849690\n",
            "Epoch: 1, Loss: 2.251556\n",
            "Epoch: 2, Loss: 0.030897\n",
            "Epoch: 3, Loss: 0.556668\n",
            "Epoch: 4, Loss: 0.174528\n",
            "Epoch: 5, Loss: 0.652966\n",
            "Epoch: 6, Loss: 0.849090\n",
            "Epoch: 7, Loss: 0.772426\n",
            "Epoch: 8, Loss: 1.016802\n",
            "Epoch: 9, Loss: 0.110779\n",
            "Epoch: 10, Loss: 0.019888\n",
            "Epoch: 11, Loss: 0.320961\n",
            "Epoch: 12, Loss: 0.259650\n",
            "Epoch: 13, Loss: 0.663508\n",
            "Epoch: 14, Loss: 0.162602\n",
            "Epoch: 15, Loss: 0.011629\n",
            "Epoch: 16, Loss: 0.039213\n",
            "Epoch: 17, Loss: 0.061623\n",
            "Epoch: 18, Loss: 0.225138\n",
            "Epoch: 19, Loss: 0.000361\n",
            "Epoch: 20, Loss: 0.032934\n",
            "Epoch: 21, Loss: 0.244257\n",
            "Epoch: 22, Loss: 0.023134\n",
            "Epoch: 23, Loss: 0.006970\n",
            "Epoch: 24, Loss: 0.323834\n",
            "Epoch: 25, Loss: 0.316080\n",
            "Epoch: 26, Loss: 0.130402\n",
            "Epoch: 27, Loss: 0.222948\n",
            "Epoch: 28, Loss: 0.051627\n",
            "Epoch: 29, Loss: 0.015068\n",
            "Epoch: 30, Loss: 0.130884\n",
            "Epoch: 31, Loss: 0.000101\n",
            "Epoch: 32, Loss: 0.078912\n",
            "Epoch: 33, Loss: 0.019224\n",
            "Epoch: 34, Loss: 0.049621\n",
            "Epoch: 35, Loss: 0.010971\n",
            "Epoch: 36, Loss: 0.025630\n",
            "Epoch: 37, Loss: 0.022442\n",
            "Epoch: 38, Loss: 0.022792\n",
            "Epoch: 39, Loss: 0.033194\n",
            "Epoch: 40, Loss: 0.007270\n",
            "Epoch: 41, Loss: 0.042215\n",
            "Epoch: 42, Loss: 0.128396\n",
            "Epoch: 43, Loss: 0.023237\n",
            "Epoch: 44, Loss: 0.047090\n",
            "Epoch: 45, Loss: 0.014262\n",
            "Epoch: 46, Loss: 0.025728\n",
            "Epoch: 47, Loss: 0.193797\n",
            "Epoch: 48, Loss: 0.000068\n",
            "Epoch: 49, Loss: 0.000871\n"
          ]
        }
      ]
    },
    {
      "cell_type": "markdown",
      "source": [
        "6.3 Perform model evaluation and compare the performance of the new model to the old model."
      ],
      "metadata": {
        "id": "ofURek20rsco"
      }
    },
    {
      "cell_type": "code",
      "source": [
        "# Create a data loader for the test set.\n",
        "dataset = torch.utils.data.TensorDataset(chunks_test, labels_test)\n",
        "train_loader = torch.utils.data.DataLoader(dataset, batch_size=64,\n",
        "                                           shuffle=True)"
      ],
      "metadata": {
        "id": "U7ZEVZP8r0X1"
      },
      "execution_count": null,
      "outputs": []
    },
    {
      "cell_type": "code",
      "source": [
        "# Apply the model to the test set.\n",
        "probabilities = model(chunks_test)\n",
        "probabilities"
      ],
      "metadata": {
        "colab": {
          "base_uri": "https://localhost:8080/"
        },
        "id": "TbJXS-E4kYSW",
        "outputId": "1dec875b-af1a-464d-da40-88107432ded2"
      },
      "execution_count": null,
      "outputs": [
        {
          "output_type": "execute_result",
          "data": {
            "text/plain": [
              "tensor([[-8.3643e-01, -5.6785e-01],\n",
              "        [-3.4571e-06, -1.2565e+01],\n",
              "        [-2.5062e+01,  0.0000e+00],\n",
              "        ...,\n",
              "        [-7.0348e-01, -6.8292e-01],\n",
              "        [-4.3806e+01,  0.0000e+00],\n",
              "        [-1.3542e+01, -1.3113e-06]], grad_fn=<LogSoftmaxBackward0>)"
            ]
          },
          "metadata": {},
          "execution_count": 60
        }
      ]
    },
    {
      "cell_type": "code",
      "source": [
        "# Turn the probabilites into class predictions\n",
        "_, predictions = torch.max(probabilities, dim=1)"
      ],
      "metadata": {
        "id": "w0IZr4Uvkr0a"
      },
      "execution_count": null,
      "outputs": []
    },
    {
      "cell_type": "code",
      "source": [
        "from sklearn.metrics import confusion_matrix\n",
        "confusion_matrix_2 = confusion_matrix(labels_test, predictions)\n",
        "print(confusion_matrix_2)"
      ],
      "metadata": {
        "colab": {
          "base_uri": "https://localhost:8080/"
        },
        "id": "UyXGoGFOl7T2",
        "outputId": "0525a8c1-7348-4954-cf74-41c2244e747d"
      },
      "execution_count": null,
      "outputs": [
        {
          "output_type": "stream",
          "name": "stdout",
          "text": [
            "[[452  55]\n",
            " [ 40 453]]\n"
          ]
        }
      ]
    },
    {
      "cell_type": "code",
      "source": [
        "true_neg_2 = confusion_matrix_2[0][0]\n",
        "false_neg_2 = confusion_matrix_2[1][0]\n",
        "false_pos_2 = confusion_matrix_2[0][1]\n",
        "true_pos_2 = confusion_matrix_2[1][1]"
      ],
      "metadata": {
        "id": "tHh1o45dk0eU"
      },
      "execution_count": null,
      "outputs": []
    },
    {
      "cell_type": "code",
      "source": [
        "accuracy_2 = float((true_pos_2 + true_neg_2)/1000)\n",
        "print(\"Accuracy:\", accuracy_2)"
      ],
      "metadata": {
        "colab": {
          "base_uri": "https://localhost:8080/"
        },
        "id": "OMkUn4W8mbWH",
        "outputId": "d0a5fe86-2116-48cd-904b-fd7c923a9963"
      },
      "execution_count": null,
      "outputs": [
        {
          "output_type": "stream",
          "name": "stdout",
          "text": [
            "Accuracy: 0.905\n"
          ]
        }
      ]
    },
    {
      "cell_type": "code",
      "source": [
        "precision_2 = float(true_pos_2 / (true_pos_2 + false_pos_2))\n",
        "print(\"Precision:\", precision_2)"
      ],
      "metadata": {
        "colab": {
          "base_uri": "https://localhost:8080/"
        },
        "id": "xGhrliXmmfDT",
        "outputId": "c0df3bea-122c-44e0-e384-ab90c7cf7596"
      },
      "execution_count": null,
      "outputs": [
        {
          "output_type": "stream",
          "name": "stdout",
          "text": [
            "Precision: 0.8917322834645669\n"
          ]
        }
      ]
    },
    {
      "cell_type": "code",
      "source": [
        "recall_2 = float(true_pos_2 / (true_pos_2 + false_neg_2 ))\n",
        "print(\"Recall:\", recall_2)"
      ],
      "metadata": {
        "colab": {
          "base_uri": "https://localhost:8080/"
        },
        "id": "GapAycZUnhVT",
        "outputId": "80d713e3-325f-4dac-dd65-934727feb136"
      },
      "execution_count": null,
      "outputs": [
        {
          "output_type": "stream",
          "name": "stdout",
          "text": [
            "Recall: 0.9188640973630832\n"
          ]
        }
      ]
    }
  ]
}